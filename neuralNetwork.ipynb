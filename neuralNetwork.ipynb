{
 "cells": [
  {
   "cell_type": "code",
   "execution_count": 1,
   "metadata": {},
   "outputs": [],
   "source": [
    "import sklearn\n",
    "import pandas as pd\n",
    "import numpy as np\n",
    "from IPython.display import Image\n",
    "\n",
    "import matplotlib\n",
    "import matplotlib.pyplot as plt\n",
    "import seaborn as sns\n",
    "%matplotlib inline\n",
    "\n",
    "from sklearn.model_selection import train_test_split"
   ]
  },
  {
   "cell_type": "markdown",
   "metadata": {},
   "source": [
    "# Neural Network structure:"
   ]
  },
  {
   "cell_type": "markdown",
   "metadata": {},
   "source": [
    "Your NN (neural network) will have one hidden layer\n",
    "with n hidden units (n should be a parameter of your program function) and 10\n",
    "output units. The network should be fully connected.\n",
    "\n",
    "Activation function: Hidden and output units should use the sigmoid activation\n",
    "function.\n",
    "\n",
    "Bias unit: Every hidden and output unit should have a weighted connection from\n",
    "bias unit, whose value should be set to 1.\n",
    "\n",
    "Output: The output units should correspond to one of 10 classes (1 to 9). Set the\n",
    "target value tk for output unit k to 0.9 if input class is the kth class, 0.1 otherwise.\n",
    "\n",
    "Training: Use backpropagation with SGD to train the network. Set the learning\n",
    "rate to 0.1."
   ]
  },
  {
   "cell_type": "code",
   "execution_count": 2,
   "metadata": {},
   "outputs": [
    {
     "name": "stderr",
     "output_type": "stream",
     "text": [
      "C:\\Users\\Meetu\\Anaconda3\\lib\\site-packages\\h5py\\__init__.py:36: FutureWarning: Conversion of the second argument of issubdtype from `float` to `np.floating` is deprecated. In future, it will be treated as `np.float64 == np.dtype(float).type`.\n",
      "  from ._conv import register_converters as _register_converters\n",
      "Using TensorFlow backend.\n"
     ]
    }
   ],
   "source": [
    "from sklearn.datasets import fetch_mldata\n",
    "from keras.datasets import mnist"
   ]
  },
  {
   "cell_type": "code",
   "execution_count": 3,
   "metadata": {},
   "outputs": [],
   "source": [
    "#Load the data from the website \n",
    "df = pd.read_csv(\"http://archive.ics.uci.edu/ml/machine-learning-databases/semeion/semeion.data\", delimiter = r\"\\s+\", header=None )"
   ]
  },
  {
   "cell_type": "code",
   "execution_count": 4,
   "metadata": {},
   "outputs": [
    {
     "data": {
      "text/plain": [
       "(1593, 266)"
      ]
     },
     "execution_count": 4,
     "metadata": {},
     "output_type": "execute_result"
    }
   ],
   "source": [
    "#Check number of rows and columns - 1593 rows and 266 columns\n",
    "df.shape"
   ]
  },
  {
   "cell_type": "code",
   "execution_count": 5,
   "metadata": {},
   "outputs": [],
   "source": [
    "#initial 256 columns are stored in X variable and remaining in Y variable\n",
    "#number of colums are the number of input nodes\n",
    "X = df.iloc[:,0:256]\n",
    "y = df.iloc[:,256:266]\n",
    "\n",
    "#train- test data split\n",
    "X_train, X_test, y_train, y_test = train_test_split(X, y, test_size=0.2, random_state=42)\n"
   ]
  },
  {
   "cell_type": "code",
   "execution_count": 6,
   "metadata": {},
   "outputs": [
    {
     "name": "stdout",
     "output_type": "stream",
     "text": [
      "Training data shape:  (1274, 256)\n",
      "Test data shape (319, 256)\n"
     ]
    }
   ],
   "source": [
    "#checking train-test data shape\n",
    "print(\"Training data shape: \", X_train.shape) # (1274, 256) \n",
    "print(\"Test data shape\", X_test.shape) # (319, 256) "
   ]
  },
  {
   "cell_type": "code",
   "execution_count": 7,
   "metadata": {},
   "outputs": [
    {
     "name": "stdout",
     "output_type": "stream",
     "text": [
      "Training label shape:  (1274, 10)\n",
      "First 5 training labels:        256  257  258  259  260  261  262  263  264  265\n",
      "1546    0    0    0    0    0    0    0    0    1    0\n",
      "1510    0    0    0    0    0    0    0    1    0    0\n",
      "744     0    0    0    0    0    0    0    1    0    0\n",
      "462     0    0    0    1    0    0    0    0    0    0\n",
      "1357    0    0    0    0    1    0    0    0    0    0\n"
     ]
    }
   ],
   "source": [
    "print(\"Training label shape: \", y_train.shape) \n",
    "print(\"First 5 training labels: \", y_train[:5])"
   ]
  },
  {
   "cell_type": "code",
   "execution_count": 8,
   "metadata": {},
   "outputs": [],
   "source": [
    "#reshape function does not work on dataframe, got error in next step. therefore, I first converted DF to array \n",
    "X_train = np.asarray(X_train)\n",
    "X_test = np.asarray(X_test)"
   ]
  },
  {
   "cell_type": "code",
   "execution_count": 9,
   "metadata": {},
   "outputs": [],
   "source": [
    "# Flatten the images\n",
    "image_vector_size = 16*16\n",
    "X_train = X_train.reshape(X_train.shape[0], image_vector_size)\n",
    "X_test = X_test.reshape(X_test.shape[0], image_vector_size)"
   ]
  },
  {
   "cell_type": "code",
   "execution_count": 10,
   "metadata": {},
   "outputs": [],
   "source": [
    "#imports for building the model\n",
    "import keras\n",
    "from keras.models import Sequential\n",
    "from keras.layers import Dense\n",
    "from keras.layers import Dropout\n",
    "from keras import optimizers\n",
    "from keras import initializers"
   ]
  },
  {
   "cell_type": "code",
   "execution_count": 11,
   "metadata": {},
   "outputs": [
    {
     "name": "stdout",
     "output_type": "stream",
     "text": [
      "256\n"
     ]
    }
   ],
   "source": [
    "num_classes = 10\n",
    "n_cols = X_train.shape[1]\n",
    "print(n_cols)"
   ]
  },
  {
   "cell_type": "markdown",
   "metadata": {},
   "source": [
    "# NN1: hidden layer = 20"
   ]
  },
  {
   "cell_type": "code",
   "execution_count": 12,
   "metadata": {},
   "outputs": [],
   "source": [
    "# initialize ANN\n",
    "model = Sequential()"
   ]
  },
  {
   "cell_type": "code",
   "execution_count": 13,
   "metadata": {},
   "outputs": [
    {
     "name": "stdout",
     "output_type": "stream",
     "text": [
      "WARNING:tensorflow:From C:\\Users\\Meetu\\Anaconda3\\lib\\site-packages\\tensorflow\\python\\framework\\op_def_library.py:263: colocate_with (from tensorflow.python.framework.ops) is deprecated and will be removed in a future version.\n",
      "Instructions for updating:\n",
      "Colocations handled automatically by placer.\n"
     ]
    }
   ],
   "source": [
    "# We use add method to add each layer in the model - add hidden layer with n number of nodes  = 20, 50 and 100\n",
    "#dense means all the nodes in previous layer connects to all the nodes in the current layer\n",
    "model.add(Dense(20, activation = 'sigmoid', input_shape = (n_cols,),  bias_initializer = keras.initializers.Ones() ))\n",
    "\n",
    "#https://rdrr.io/cran/kerasR/man/Initalizers.html\n",
    "#https://keras.io/initializers/"
   ]
  },
  {
   "cell_type": "code",
   "execution_count": 14,
   "metadata": {},
   "outputs": [],
   "source": [
    "# Add output layer : output_dim = 10 means output layer has 10 nodes\n",
    "model.add(Dense(10, activation = 'sigmoid'))"
   ]
  },
  {
   "cell_type": "code",
   "execution_count": 15,
   "metadata": {},
   "outputs": [],
   "source": [
    "# compiling i.e adding SGD to our ANN \n",
    "# it has a few important parameters - optimizing function, learning rate and the loss function\n",
    "#sgd means - stochastic gradient descent optimizer\n",
    "#ARGUMENTS:\n",
    "#lr: float >= 0. Learning rate.\n",
    "#momentum: float >= 0. Parameter that accelerates SGD in the relevant direction and dampens oscillations.\n",
    "#decay: float >= 0. Learning rate decay over each update.\n",
    "#nesterov: boolean. Whether to apply Nesterov momentum.\n",
    "\n",
    "my_optimizer = optimizers.SGD(lr=0.01, decay=1e-6, momentum=0.9, nesterov=True)\n",
    "model.compile(optimizer = my_optimizer, loss = 'categorical_crossentropy', metrics = ['accuracy'])\n",
    "\n",
    "#source - https://keras.io/optimizers/"
   ]
  },
  {
   "cell_type": "code",
   "execution_count": 16,
   "metadata": {},
   "outputs": [
    {
     "name": "stdout",
     "output_type": "stream",
     "text": [
      "_________________________________________________________________\n",
      "Layer (type)                 Output Shape              Param #   \n",
      "=================================================================\n",
      "dense_1 (Dense)              (None, 20)                5140      \n",
      "_________________________________________________________________\n",
      "dense_2 (Dense)              (None, 10)                210       \n",
      "=================================================================\n",
      "Total params: 5,350\n",
      "Trainable params: 5,350\n",
      "Non-trainable params: 0\n",
      "_________________________________________________________________\n"
     ]
    }
   ],
   "source": [
    "model.summary()"
   ]
  },
  {
   "cell_type": "code",
   "execution_count": 17,
   "metadata": {},
   "outputs": [
    {
     "name": "stdout",
     "output_type": "stream",
     "text": [
      "WARNING:tensorflow:From C:\\Users\\Meetu\\Anaconda3\\lib\\site-packages\\tensorflow\\python\\ops\\math_ops.py:3066: to_int32 (from tensorflow.python.ops.math_ops) is deprecated and will be removed in a future version.\n",
      "Instructions for updating:\n",
      "Use tf.cast instead.\n",
      "Train on 1274 samples, validate on 319 samples\n",
      "Epoch 1/50\n",
      " - 1s - loss: 2.3378 - acc: 0.0981 - val_loss: 2.3087 - val_acc: 0.1066\n",
      "Epoch 2/50\n",
      " - 0s - loss: 2.3158 - acc: 0.0981 - val_loss: 2.2911 - val_acc: 0.1066\n",
      "Epoch 3/50\n",
      " - 0s - loss: 2.2942 - acc: 0.0989 - val_loss: 2.2751 - val_acc: 0.1097\n",
      "Epoch 4/50\n",
      " - 0s - loss: 2.2762 - acc: 0.1005 - val_loss: 2.2609 - val_acc: 0.1160\n",
      "Epoch 5/50\n",
      " - 0s - loss: 2.2608 - acc: 0.1060 - val_loss: 2.2471 - val_acc: 0.1254\n",
      "Epoch 6/50\n",
      " - 0s - loss: 2.2460 - acc: 0.1319 - val_loss: 2.2334 - val_acc: 0.1818\n",
      "Epoch 7/50\n",
      " - 0s - loss: 2.2310 - acc: 0.1947 - val_loss: 2.2184 - val_acc: 0.2414\n",
      "Epoch 8/50\n",
      " - 0s - loss: 2.2153 - acc: 0.2747 - val_loss: 2.2019 - val_acc: 0.3009\n",
      "Epoch 9/50\n",
      " - 0s - loss: 2.1984 - acc: 0.3210 - val_loss: 2.1840 - val_acc: 0.3417\n",
      "Epoch 10/50\n",
      " - 0s - loss: 2.1800 - acc: 0.3626 - val_loss: 2.1642 - val_acc: 0.3856\n",
      "Epoch 11/50\n",
      " - 0s - loss: 2.1599 - acc: 0.3838 - val_loss: 2.1431 - val_acc: 0.4075\n",
      "Epoch 12/50\n",
      " - 0s - loss: 2.1376 - acc: 0.4294 - val_loss: 2.1190 - val_acc: 0.5047\n",
      "Epoch 13/50\n",
      " - 0s - loss: 2.1135 - acc: 0.4976 - val_loss: 2.0933 - val_acc: 0.5455\n",
      "Epoch 14/50\n",
      " - 0s - loss: 2.0877 - acc: 0.5275 - val_loss: 2.0662 - val_acc: 0.6082\n",
      "Epoch 15/50\n",
      " - 0s - loss: 2.0601 - acc: 0.5644 - val_loss: 2.0382 - val_acc: 0.6332\n",
      "Epoch 16/50\n",
      " - 0s - loss: 2.0316 - acc: 0.5871 - val_loss: 2.0083 - val_acc: 0.6646\n",
      "Epoch 17/50\n",
      " - 0s - loss: 2.0013 - acc: 0.6224 - val_loss: 1.9774 - val_acc: 0.6991\n",
      "Epoch 18/50\n",
      " - 0s - loss: 1.9703 - acc: 0.6476 - val_loss: 1.9454 - val_acc: 0.7179\n",
      "Epoch 19/50\n",
      " - 0s - loss: 1.9378 - acc: 0.6695 - val_loss: 1.9126 - val_acc: 0.7367\n",
      "Epoch 20/50\n",
      " - 0s - loss: 1.9052 - acc: 0.6970 - val_loss: 1.8784 - val_acc: 0.7524\n",
      "Epoch 21/50\n",
      " - 0s - loss: 1.8710 - acc: 0.7127 - val_loss: 1.8439 - val_acc: 0.7649\n",
      "Epoch 22/50\n",
      " - 0s - loss: 1.8360 - acc: 0.7268 - val_loss: 1.8086 - val_acc: 0.7962\n",
      "Epoch 23/50\n",
      " - 0s - loss: 1.8006 - acc: 0.7402 - val_loss: 1.7728 - val_acc: 0.7900\n",
      "Epoch 24/50\n",
      " - 0s - loss: 1.7647 - acc: 0.7512 - val_loss: 1.7368 - val_acc: 0.7900\n",
      "Epoch 25/50\n",
      " - 0s - loss: 1.7284 - acc: 0.7582 - val_loss: 1.6996 - val_acc: 0.7962\n",
      "Epoch 26/50\n",
      " - 0s - loss: 1.6916 - acc: 0.7653 - val_loss: 1.6629 - val_acc: 0.8025\n",
      "Epoch 27/50\n",
      " - 0s - loss: 1.6549 - acc: 0.7747 - val_loss: 1.6262 - val_acc: 0.8025\n",
      "Epoch 28/50\n",
      " - 0s - loss: 1.6181 - acc: 0.7865 - val_loss: 1.5897 - val_acc: 0.8088\n",
      "Epoch 29/50\n",
      " - 0s - loss: 1.5815 - acc: 0.7928 - val_loss: 1.5526 - val_acc: 0.8056\n",
      "Epoch 30/50\n",
      " - 0s - loss: 1.5450 - acc: 0.7983 - val_loss: 1.5161 - val_acc: 0.8150\n",
      "Epoch 31/50\n",
      " - 0s - loss: 1.5088 - acc: 0.7998 - val_loss: 1.4799 - val_acc: 0.8119\n",
      "Epoch 32/50\n",
      " - 0s - loss: 1.4734 - acc: 0.8046 - val_loss: 1.4445 - val_acc: 0.8245\n",
      "Epoch 33/50\n",
      " - 0s - loss: 1.4384 - acc: 0.8132 - val_loss: 1.4102 - val_acc: 0.8276\n",
      "Epoch 34/50\n",
      " - 0s - loss: 1.4037 - acc: 0.8187 - val_loss: 1.3754 - val_acc: 0.8245\n",
      "Epoch 35/50\n",
      " - 0s - loss: 1.3702 - acc: 0.8234 - val_loss: 1.3415 - val_acc: 0.8307\n",
      "Epoch 36/50\n",
      " - 0s - loss: 1.3372 - acc: 0.8257 - val_loss: 1.3087 - val_acc: 0.8276\n",
      "Epoch 37/50\n",
      " - 0s - loss: 1.3042 - acc: 0.8289 - val_loss: 1.2770 - val_acc: 0.8307\n",
      "Epoch 38/50\n",
      " - 0s - loss: 1.2726 - acc: 0.8312 - val_loss: 1.2454 - val_acc: 0.8307\n",
      "Epoch 39/50\n",
      " - 0s - loss: 1.2419 - acc: 0.8359 - val_loss: 1.2155 - val_acc: 0.8401\n",
      "Epoch 40/50\n",
      " - 0s - loss: 1.2118 - acc: 0.8391 - val_loss: 1.1850 - val_acc: 0.8370\n",
      "Epoch 41/50\n",
      " - 0s - loss: 1.1816 - acc: 0.8454 - val_loss: 1.1561 - val_acc: 0.8464\n",
      "Epoch 42/50\n",
      " - 0s - loss: 1.1530 - acc: 0.8462 - val_loss: 1.1284 - val_acc: 0.8433\n",
      "Epoch 43/50\n",
      " - 0s - loss: 1.1250 - acc: 0.8509 - val_loss: 1.1017 - val_acc: 0.8433\n",
      "Epoch 44/50\n",
      " - 0s - loss: 1.0978 - acc: 0.8524 - val_loss: 1.0745 - val_acc: 0.8558\n",
      "Epoch 45/50\n",
      " - 0s - loss: 1.0710 - acc: 0.8564 - val_loss: 1.0491 - val_acc: 0.8558\n",
      "Epoch 46/50\n",
      " - 0s - loss: 1.0456 - acc: 0.8571 - val_loss: 1.0248 - val_acc: 0.8527\n",
      "Epoch 47/50\n",
      " - 0s - loss: 1.0207 - acc: 0.8611 - val_loss: 1.0010 - val_acc: 0.8558\n",
      "Epoch 48/50\n",
      " - 0s - loss: 0.9962 - acc: 0.8650 - val_loss: 0.9779 - val_acc: 0.8558\n",
      "Epoch 49/50\n",
      " - 0s - loss: 0.9728 - acc: 0.8666 - val_loss: 0.9553 - val_acc: 0.8558\n",
      "Epoch 50/50\n",
      " - 0s - loss: 0.9501 - acc: 0.8681 - val_loss: 0.9339 - val_acc: 0.8589\n"
     ]
    }
   ],
   "source": [
    "#last step is to fit the model i.e. applying backpropagation and gradient descent on the data to update the weights\n",
    "#one epoch = one forward pass and one backward pass of all the training examples. \n",
    "#batch size = the number of training examples in one forward/backward pass. \n",
    "#The higher the batch size, the more memory space you'll need.\n",
    "\n",
    "history = model.fit(X_train, y_train, batch_size=128, epochs=50, verbose=2, validation_data = (X_test,y_test))\n"
   ]
  },
  {
   "cell_type": "code",
   "execution_count": 24,
   "metadata": {},
   "outputs": [
    {
     "data": {
      "image/png": "[encoded data removed]",
      "text/plain": [
       "<Figure size 432x288 with 2 Axes>"
      ]
     },
     "metadata": {},
     "output_type": "display_data"
    }
   ],
   "source": [
    "# Plot the loss and accuracy curves for training and validation \n",
    "fig, ax = plt.subplots(2,1)\n",
    "ax[0].plot(history.history['loss'], color='b', label=\"Training loss(Y) Vs Epochs(X)\")\n",
    "ax[0].plot(history.history['val_loss'], color='r', label=\"validation loss(Y) Vs Epochs(X)\",axes =ax[0])\n",
    "legend = ax[0].legend(loc='best', shadow=True)\n",
    "\n",
    "ax[1].plot(history.history['acc'], color='b', label=\"Training accuracy(Y) Vs Epochs(X)\")\n",
    "ax[1].plot(history.history['val_acc'], color='r',label=\"Validation accuracy(Y) Vs Epochs(X)\")\n",
    "legend = ax[1].legend(loc='best', shadow=True)\n"
   ]
  },
  {
   "cell_type": "code",
   "execution_count": 25,
   "metadata": {},
   "outputs": [
    {
     "name": "stdout",
     "output_type": "stream",
     "text": [
      "[[130   0   0   0   1   0   1   0   1   0]\n",
      " [  0 102   4   2   0   2   1  19   0   1]\n",
      " [  0   7 108   0   1   0   4   0   4   1]\n",
      " [  0   4   1 107   0   2   0   1   4   5]\n",
      " [  2   5   0   0 108   2   2   4   0   3]\n",
      " [  1   0   1   3   1 117   3   3   2   0]\n",
      " [  5   2   1   0   1   1 125   0   0   0]\n",
      " [  0   4   0   0   3   0   1 112   2   4]\n",
      " [  0   3   3   3   0   3   1   3 104   0]\n",
      " [  1   1   0  16   2   3   0   4   4  92]]\n"
     ]
    }
   ],
   "source": [
    "#to plot Confusion Matrix\n",
    "##https://www.kaggle.com/abhishekkrsingh/keras-101-mnist-dataset\n",
    "from sklearn.metrics import confusion_matrix\n",
    "import itertools\n",
    "\n",
    "# Predict the values from the validation dataset\n",
    "Y_pred = model.predict(X_train)\n",
    "\n",
    "#Y_pred is this array - you can check by Y_pred[1]\n",
    "#array([0.5873542 , 0.40650836, 0.5396446 , 0.47721234, 0.48955962,\n",
    "#      0.54455054, 0.4399726 , 0.34644568, 0.3895176 , 0.41124493],\n",
    "#      dtype=float32)\n",
    "\n",
    "#becuase confusion matrix works on 1 classification column, but we have 10 cols in Y - 256 : 266, \n",
    "#or 10 predicted values of Y in these 10 different columns, so we will convert them to single column using argmax function\n",
    "# Convert predictions classes to one hot vectors \n",
    "Y_pred_classes = np.argmax(Y_pred,axis = 1) \n",
    "# Convert validation observations to one hot vectors\n",
    "#But first convert it to array, because type(y_train) is DF and argmax doesnot work on DF\n",
    "y_train = np.asarray(y_train)\n",
    "\n",
    "Y_true = np.argmax(y_train,axis = 1)\n",
    "# compute the confusion matrix\n",
    "confusion_mtx = confusion_matrix(Y_true, Y_pred_classes) \n",
    "print(confusion_mtx)\n"
   ]
  },
  {
   "cell_type": "code",
   "execution_count": 26,
   "metadata": {},
   "outputs": [
    {
     "data": {
      "text/plain": [
       "<matplotlib.axes._subplots.AxesSubplot at 0x183e78b4b00>"
      ]
     },
     "execution_count": 26,
     "metadata": {},
     "output_type": "execute_result"
    },
    {
     "data": {
      "image/png": "[encoded data removed]",
      "text/plain": [
       "<Figure size 432x288 with 2 Axes>"
      ]
     },
     "metadata": {},
     "output_type": "display_data"
    }
   ],
   "source": [
    "#plotting the confusion matrix\n",
    "import seaborn as sns\n",
    "sns.heatmap(confusion_mtx, annot=True, cmap = 'autumn', alpha=0.7)"
   ]
  },
  {
   "cell_type": "markdown",
   "metadata": {},
   "source": [
    "# NN2: 50 hidden layers"
   ]
  },
  {
   "cell_type": "code",
   "execution_count": 27,
   "metadata": {},
   "outputs": [
    {
     "name": "stdout",
     "output_type": "stream",
     "text": [
      "_________________________________________________________________\n",
      "Layer (type)                 Output Shape              Param #   \n",
      "=================================================================\n",
      "dense_3 (Dense)              (None, 50)                12850     \n",
      "_________________________________________________________________\n",
      "dense_4 (Dense)              (None, 10)                510       \n",
      "=================================================================\n",
      "Total params: 13,360\n",
      "Trainable params: 13,360\n",
      "Non-trainable params: 0\n",
      "_________________________________________________________________\n",
      "Train on 1274 samples, validate on 319 samples\n",
      "Epoch 1/50\n",
      " - 0s - loss: 2.3144 - acc: 0.1028 - val_loss: 2.2997 - val_acc: 0.0972\n",
      "Epoch 2/50\n",
      " - 0s - loss: 2.2924 - acc: 0.1052 - val_loss: 2.2828 - val_acc: 0.1003\n",
      "Epoch 3/50\n",
      " - 0s - loss: 2.2725 - acc: 0.1405 - val_loss: 2.2692 - val_acc: 0.1755\n",
      "Epoch 4/50\n",
      " - 0s - loss: 2.2566 - acc: 0.2237 - val_loss: 2.2541 - val_acc: 0.2163\n",
      "Epoch 5/50\n",
      " - 0s - loss: 2.2402 - acc: 0.2527 - val_loss: 2.2366 - val_acc: 0.2571\n",
      "Epoch 6/50\n",
      " - 0s - loss: 2.2223 - acc: 0.2967 - val_loss: 2.2162 - val_acc: 0.3229\n",
      "Epoch 7/50\n",
      " - 0s - loss: 2.2015 - acc: 0.3493 - val_loss: 2.1940 - val_acc: 0.3480\n",
      "Epoch 8/50\n",
      " - 0s - loss: 2.1779 - acc: 0.3995 - val_loss: 2.1678 - val_acc: 0.4044\n",
      "Epoch 9/50\n",
      " - 0s - loss: 2.1495 - acc: 0.4553 - val_loss: 2.1374 - val_acc: 0.4765\n",
      "Epoch 10/50\n",
      " - 0s - loss: 2.1174 - acc: 0.5141 - val_loss: 2.1021 - val_acc: 0.5455\n",
      "Epoch 11/50\n",
      " - 0s - loss: 2.0807 - acc: 0.5667 - val_loss: 2.0623 - val_acc: 0.5893\n",
      "Epoch 12/50\n",
      " - 0s - loss: 2.0380 - acc: 0.6044 - val_loss: 2.0179 - val_acc: 0.6332\n",
      "Epoch 13/50\n",
      " - 0s - loss: 1.9911 - acc: 0.6421 - val_loss: 1.9670 - val_acc: 0.6614\n",
      "Epoch 14/50\n",
      " - 0s - loss: 1.9393 - acc: 0.6664 - val_loss: 1.9149 - val_acc: 0.6928\n",
      "Epoch 15/50\n",
      " - 0s - loss: 1.8848 - acc: 0.7033 - val_loss: 1.8594 - val_acc: 0.7179\n",
      "Epoch 16/50\n",
      " - 0s - loss: 1.8292 - acc: 0.7127 - val_loss: 1.8020 - val_acc: 0.7429\n",
      "Epoch 17/50\n",
      " - 0s - loss: 1.7693 - acc: 0.7425 - val_loss: 1.7405 - val_acc: 0.7429\n",
      "Epoch 18/50\n",
      " - 0s - loss: 1.7100 - acc: 0.7575 - val_loss: 1.6806 - val_acc: 0.7680\n",
      "Epoch 19/50\n",
      " - 0s - loss: 1.6510 - acc: 0.7614 - val_loss: 1.6238 - val_acc: 0.7743\n",
      "Epoch 20/50\n",
      " - 0s - loss: 1.5904 - acc: 0.7684 - val_loss: 1.5619 - val_acc: 0.7900\n",
      "Epoch 21/50\n",
      " - 0s - loss: 1.5331 - acc: 0.7826 - val_loss: 1.5040 - val_acc: 0.8088\n",
      "Epoch 22/50\n",
      " - 0s - loss: 1.4734 - acc: 0.8077 - val_loss: 1.4474 - val_acc: 0.8307\n",
      "Epoch 23/50\n",
      " - 0s - loss: 1.4178 - acc: 0.8061 - val_loss: 1.3924 - val_acc: 0.8245\n",
      "Epoch 24/50\n",
      " - 0s - loss: 1.3632 - acc: 0.8250 - val_loss: 1.3375 - val_acc: 0.8339\n",
      "Epoch 25/50\n",
      " - 0s - loss: 1.3109 - acc: 0.8359 - val_loss: 1.2860 - val_acc: 0.8401\n",
      "Epoch 26/50\n",
      " - 0s - loss: 1.2607 - acc: 0.8422 - val_loss: 1.2384 - val_acc: 0.8433\n",
      "Epoch 27/50\n",
      " - 0s - loss: 1.2125 - acc: 0.8477 - val_loss: 1.1906 - val_acc: 0.8527\n",
      "Epoch 28/50\n",
      " - 0s - loss: 1.1671 - acc: 0.8501 - val_loss: 1.1464 - val_acc: 0.8558\n",
      "Epoch 29/50\n",
      " - 0s - loss: 1.1228 - acc: 0.8532 - val_loss: 1.1056 - val_acc: 0.8527\n",
      "Epoch 30/50\n",
      " - 0s - loss: 1.0819 - acc: 0.8634 - val_loss: 1.0655 - val_acc: 0.8621\n",
      "Epoch 31/50\n",
      " - 0s - loss: 1.0429 - acc: 0.8650 - val_loss: 1.0269 - val_acc: 0.8558\n",
      "Epoch 32/50\n",
      " - 0s - loss: 1.0056 - acc: 0.8626 - val_loss: 0.9911 - val_acc: 0.8589\n",
      "Epoch 33/50\n",
      " - 0s - loss: 0.9698 - acc: 0.8658 - val_loss: 0.9577 - val_acc: 0.8589\n",
      "Epoch 34/50\n",
      " - 0s - loss: 0.9367 - acc: 0.8689 - val_loss: 0.9265 - val_acc: 0.8589\n",
      "Epoch 35/50\n",
      " - 0s - loss: 0.9049 - acc: 0.8768 - val_loss: 0.8960 - val_acc: 0.8652\n",
      "Epoch 36/50\n",
      " - 0s - loss: 0.8752 - acc: 0.8783 - val_loss: 0.8681 - val_acc: 0.8589\n",
      "Epoch 37/50\n",
      " - 0s - loss: 0.8467 - acc: 0.8823 - val_loss: 0.8408 - val_acc: 0.8683\n",
      "Epoch 38/50\n",
      " - 0s - loss: 0.8195 - acc: 0.8815 - val_loss: 0.8159 - val_acc: 0.8652\n",
      "Epoch 39/50\n",
      " - 0s - loss: 0.7941 - acc: 0.8830 - val_loss: 0.7929 - val_acc: 0.8652\n",
      "Epoch 40/50\n",
      " - 0s - loss: 0.7700 - acc: 0.8878 - val_loss: 0.7697 - val_acc: 0.8746\n",
      "Epoch 41/50\n",
      " - 0s - loss: 0.7461 - acc: 0.8901 - val_loss: 0.7480 - val_acc: 0.8746\n",
      "Epoch 42/50\n",
      " - 0s - loss: 0.7246 - acc: 0.8948 - val_loss: 0.7278 - val_acc: 0.8715\n",
      "Epoch 43/50\n",
      " - 0s - loss: 0.7039 - acc: 0.8940 - val_loss: 0.7093 - val_acc: 0.8746\n",
      "Epoch 44/50\n",
      " - 0s - loss: 0.6837 - acc: 0.8987 - val_loss: 0.6920 - val_acc: 0.8746\n",
      "Epoch 45/50\n",
      " - 0s - loss: 0.6650 - acc: 0.8995 - val_loss: 0.6743 - val_acc: 0.8777\n",
      "Epoch 46/50\n",
      " - 0s - loss: 0.6473 - acc: 0.9019 - val_loss: 0.6584 - val_acc: 0.8777\n",
      "Epoch 47/50\n",
      " - 0s - loss: 0.6303 - acc: 0.9019 - val_loss: 0.6430 - val_acc: 0.8809\n",
      "Epoch 48/50\n",
      " - 0s - loss: 0.6138 - acc: 0.9050 - val_loss: 0.6285 - val_acc: 0.8777\n",
      "Epoch 49/50\n",
      " - 0s - loss: 0.5983 - acc: 0.9074 - val_loss: 0.6150 - val_acc: 0.8777\n",
      "Epoch 50/50\n",
      " - 0s - loss: 0.5835 - acc: 0.9074 - val_loss: 0.6021 - val_acc: 0.8777\n"
     ]
    }
   ],
   "source": [
    "# initialize ANN\n",
    "model = Sequential()\n",
    "\n",
    "#Add hidden layer with n = 50\n",
    "model.add(Dense(50, activation = 'sigmoid', input_shape = (n_cols,),  bias_initializer = keras.initializers.Ones() ))\n",
    "\n",
    "# Add output layer : output_dim = 10 means output layer has 10 nodes\n",
    "model.add(Dense(10, activation = 'sigmoid'))\n",
    "\n",
    "#compiling the model\n",
    "my_optimizer = optimizers.SGD(lr=0.01, decay=1e-6, momentum=0.9, nesterov=True)\n",
    "model.compile(optimizer = my_optimizer, loss = 'categorical_crossentropy', metrics = ['accuracy'])\n",
    "\n",
    "model.summary()\n",
    "\n",
    "#Running model for 50 epochs on train data set\n",
    "history = model.fit(X_train, y_train, batch_size=128, epochs=50, verbose=2, validation_data = (X_test,y_test))"
   ]
  },
  {
   "cell_type": "code",
   "execution_count": 29,
   "metadata": {},
   "outputs": [
    {
     "data": {
      "image/png": "[encoded data removed]",
      "text/plain": [
       "<Figure size 432x288 with 2 Axes>"
      ]
     },
     "metadata": {},
     "output_type": "display_data"
    }
   ],
   "source": [
    "# Plot the loss and accuracy curves for training and validation \n",
    "fig, ax = plt.subplots(2,1)\n",
    "ax[0].plot(history.history['loss'], color='b', label=\"Training loss(Y) Vs Epochs(X)\")\n",
    "ax[0].plot(history.history['val_loss'], color='r', label=\"validation loss(Y) Vs Epochs(X)\",axes =ax[0])\n",
    "legend = ax[0].legend(loc='best', shadow=True)\n",
    "\n",
    "ax[1].plot(history.history['acc'], color='b', label=\"Training accuracy(Y) Vs Epochs(X)\")\n",
    "ax[1].plot(history.history['val_acc'], color='r',label=\"Validation accuracy(Y) Vs Epochs(X)\")\n",
    "legend = ax[1].legend(loc='best', shadow=True)"
   ]
  },
  {
   "cell_type": "code",
   "execution_count": 30,
   "metadata": {},
   "outputs": [
    {
     "name": "stdout",
     "output_type": "stream",
     "text": [
      "[[130   0   0   0   1   0   1   0   1   0]\n",
      " [  0 111   1   2   1   2   0  14   0   0]\n",
      " [  0   2 114   0   3   0   1   0   4   1]\n",
      " [  0   4   0 112   0   1   0   1   0   6]\n",
      " [  0   6   0   0 111   3   1   4   0   1]\n",
      " [  1   0   1   1   0 124   2   0   1   1]\n",
      " [  2   1   1   0   2   1 128   0   0   0]\n",
      " [  0   9   0   0   2   0   1 110   0   4]\n",
      " [  0   2   2   2   0   0   1   1 111   1]\n",
      " [  0   1   1   8   1   2   0   0   3 107]]\n"
     ]
    }
   ],
   "source": [
    "#to plot Confusion Matrix\n",
    "##https://www.kaggle.com/abhishekkrsingh/keras-101-mnist-dataset\n",
    "from sklearn.metrics import confusion_matrix\n",
    "import itertools\n",
    "\n",
    "# Predict the values from the validation dataset\n",
    "Y_pred = model.predict(X_train)\n",
    "\n",
    "#Y_pred is this array - you can check by Y_pred[1]\n",
    "#array([0.5873542 , 0.40650836, 0.5396446 , 0.47721234, 0.48955962,\n",
    "#      0.54455054, 0.4399726 , 0.34644568, 0.3895176 , 0.41124493],\n",
    "#      dtype=float32)\n",
    "\n",
    "#becuase confusion matrix works on 1 classification column, but we have 10 cols in Y - 256 : 266, \n",
    "#or 10 predicted values of Y in these 10 different columns, so we will convert them to single column using argmax function\n",
    "# Convert predictions classes to one hot vectors \n",
    "Y_pred_classes = np.argmax(Y_pred,axis = 1) \n",
    "# Convert validation observations to one hot vectors\n",
    "#But first convert it to array, because type(y_train) is DF and argmax doesnot work on DF\n",
    "y_train = np.asarray(y_train)\n",
    "\n",
    "Y_true = np.argmax(y_train,axis = 1)\n",
    "# compute the confusion matrix\n",
    "confusion_mtx = confusion_matrix(Y_true, Y_pred_classes) \n",
    "print(confusion_mtx)"
   ]
  },
  {
   "cell_type": "code",
   "execution_count": 31,
   "metadata": {},
   "outputs": [
    {
     "data": {
      "text/plain": [
       "<matplotlib.axes._subplots.AxesSubplot at 0x183e7a65da0>"
      ]
     },
     "execution_count": 31,
     "metadata": {},
     "output_type": "execute_result"
    },
    {
     "data": {
      "image/png": "[encoded data removed]",
      "text/plain": [
       "<Figure size 432x288 with 2 Axes>"
      ]
     },
     "metadata": {},
     "output_type": "display_data"
    }
   ],
   "source": [
    "#plotting the confusion matrix\n",
    "import seaborn as sns\n",
    "sns.heatmap(confusion_mtx, annot=True, cmap = 'autumn', alpha=0.7)"
   ]
  },
  {
   "cell_type": "markdown",
   "metadata": {},
   "source": [
    "# NN3: 100 hidden layers"
   ]
  },
  {
   "cell_type": "code",
   "execution_count": 32,
   "metadata": {},
   "outputs": [
    {
     "name": "stdout",
     "output_type": "stream",
     "text": [
      "_________________________________________________________________\n",
      "Layer (type)                 Output Shape              Param #   \n",
      "=================================================================\n",
      "dense_5 (Dense)              (None, 100)               25700     \n",
      "_________________________________________________________________\n",
      "dense_6 (Dense)              (None, 10)                1010      \n",
      "=================================================================\n",
      "Total params: 26,710\n",
      "Trainable params: 26,710\n",
      "Non-trainable params: 0\n",
      "_________________________________________________________________\n",
      "Train on 1274 samples, validate on 319 samples\n",
      "Epoch 1/50\n",
      " - 0s - loss: 2.3703 - acc: 0.0989 - val_loss: 2.3083 - val_acc: 0.1003\n",
      "Epoch 2/50\n",
      " - 0s - loss: 2.2976 - acc: 0.0989 - val_loss: 2.2796 - val_acc: 0.1003\n",
      "Epoch 3/50\n",
      " - 0s - loss: 2.2806 - acc: 0.0989 - val_loss: 2.2701 - val_acc: 0.1003\n",
      "Epoch 4/50\n",
      " - 0s - loss: 2.2697 - acc: 0.0989 - val_loss: 2.2611 - val_acc: 0.1003\n",
      "Epoch 5/50\n",
      " - 0s - loss: 2.2584 - acc: 0.0989 - val_loss: 2.2496 - val_acc: 0.1003\n",
      "Epoch 6/50\n",
      " - 0s - loss: 2.2458 - acc: 0.0989 - val_loss: 2.2362 - val_acc: 0.1003\n",
      "Epoch 7/50\n",
      " - 0s - loss: 2.2310 - acc: 0.0989 - val_loss: 2.2182 - val_acc: 0.1003\n",
      "Epoch 8/50\n",
      " - 0s - loss: 2.2115 - acc: 0.1115 - val_loss: 2.1933 - val_acc: 0.1567\n",
      "Epoch 9/50\n",
      " - 0s - loss: 2.1840 - acc: 0.2739 - val_loss: 2.1615 - val_acc: 0.4828\n",
      "Epoch 10/50\n",
      " - 0s - loss: 2.1473 - acc: 0.5173 - val_loss: 2.1185 - val_acc: 0.5862\n",
      "Epoch 11/50\n",
      " - 0s - loss: 2.1017 - acc: 0.6005 - val_loss: 2.0659 - val_acc: 0.6552\n",
      "Epoch 12/50\n",
      " - 0s - loss: 2.0439 - acc: 0.6484 - val_loss: 2.0051 - val_acc: 0.6803\n",
      "Epoch 13/50\n",
      " - 0s - loss: 1.9797 - acc: 0.6766 - val_loss: 1.9351 - val_acc: 0.7398\n",
      "Epoch 14/50\n",
      " - 0s - loss: 1.9081 - acc: 0.7080 - val_loss: 1.8609 - val_acc: 0.7461\n",
      "Epoch 15/50\n",
      " - 0s - loss: 1.8329 - acc: 0.7159 - val_loss: 1.7882 - val_acc: 0.7304\n",
      "Epoch 16/50\n",
      " - 0s - loss: 1.7565 - acc: 0.7504 - val_loss: 1.7081 - val_acc: 0.7900\n",
      "Epoch 17/50\n",
      " - 0s - loss: 1.6791 - acc: 0.7747 - val_loss: 1.6298 - val_acc: 0.8119\n",
      "Epoch 18/50\n",
      " - 0s - loss: 1.6019 - acc: 0.7786 - val_loss: 1.5563 - val_acc: 0.7994\n",
      "Epoch 19/50\n",
      " - 0s - loss: 1.5254 - acc: 0.7849 - val_loss: 1.4786 - val_acc: 0.8307\n",
      "Epoch 20/50\n",
      " - 0s - loss: 1.4518 - acc: 0.8077 - val_loss: 1.4062 - val_acc: 0.8527\n",
      "Epoch 21/50\n",
      " - 0s - loss: 1.3796 - acc: 0.8218 - val_loss: 1.3384 - val_acc: 0.8433\n",
      "Epoch 22/50\n",
      " - 0s - loss: 1.3119 - acc: 0.8257 - val_loss: 1.2696 - val_acc: 0.8527\n",
      "Epoch 23/50\n",
      " - 0s - loss: 1.2448 - acc: 0.8422 - val_loss: 1.2078 - val_acc: 0.8558\n",
      "Epoch 24/50\n",
      " - 0s - loss: 1.1832 - acc: 0.8509 - val_loss: 1.1475 - val_acc: 0.8558\n",
      "Epoch 25/50\n",
      " - 0s - loss: 1.1262 - acc: 0.8438 - val_loss: 1.0921 - val_acc: 0.8495\n",
      "Epoch 26/50\n",
      " - 0s - loss: 1.0711 - acc: 0.8532 - val_loss: 1.0406 - val_acc: 0.8527\n",
      "Epoch 27/50\n",
      " - 0s - loss: 1.0217 - acc: 0.8532 - val_loss: 0.9922 - val_acc: 0.8621\n",
      "Epoch 28/50\n",
      " - 0s - loss: 0.9744 - acc: 0.8642 - val_loss: 0.9469 - val_acc: 0.8589\n",
      "Epoch 29/50\n",
      " - 0s - loss: 0.9311 - acc: 0.8587 - val_loss: 0.9057 - val_acc: 0.8621\n",
      "Epoch 30/50\n",
      " - 0s - loss: 0.8912 - acc: 0.8650 - val_loss: 0.8685 - val_acc: 0.8683\n",
      "Epoch 31/50\n",
      " - 0s - loss: 0.8530 - acc: 0.8681 - val_loss: 0.8326 - val_acc: 0.8683\n",
      "Epoch 32/50\n",
      " - 0s - loss: 0.8192 - acc: 0.8705 - val_loss: 0.8013 - val_acc: 0.8652\n",
      "Epoch 33/50\n",
      " - 0s - loss: 0.7860 - acc: 0.8736 - val_loss: 0.7707 - val_acc: 0.8777\n",
      "Epoch 34/50\n",
      " - 0s - loss: 0.7569 - acc: 0.8783 - val_loss: 0.7421 - val_acc: 0.8777\n",
      "Epoch 35/50\n",
      " - 0s - loss: 0.7284 - acc: 0.8838 - val_loss: 0.7173 - val_acc: 0.8683\n",
      "Epoch 36/50\n",
      " - 0s - loss: 0.7039 - acc: 0.8807 - val_loss: 0.6925 - val_acc: 0.8683\n",
      "Epoch 37/50\n",
      " - 0s - loss: 0.6803 - acc: 0.8838 - val_loss: 0.6715 - val_acc: 0.8809\n",
      "Epoch 38/50\n",
      " - 0s - loss: 0.6567 - acc: 0.8925 - val_loss: 0.6515 - val_acc: 0.8777\n",
      "Epoch 39/50\n",
      " - 0s - loss: 0.6368 - acc: 0.8870 - val_loss: 0.6319 - val_acc: 0.8840\n",
      "Epoch 40/50\n",
      " - 0s - loss: 0.6163 - acc: 0.8932 - val_loss: 0.6146 - val_acc: 0.8840\n",
      "Epoch 41/50\n",
      " - 0s - loss: 0.5968 - acc: 0.8956 - val_loss: 0.5971 - val_acc: 0.8871\n",
      "Epoch 42/50\n",
      " - 0s - loss: 0.5801 - acc: 0.8948 - val_loss: 0.5821 - val_acc: 0.8777\n",
      "Epoch 43/50\n",
      " - 0s - loss: 0.5633 - acc: 0.9011 - val_loss: 0.5679 - val_acc: 0.8840\n",
      "Epoch 44/50\n",
      " - 0s - loss: 0.5485 - acc: 0.9058 - val_loss: 0.5547 - val_acc: 0.8809\n",
      "Epoch 45/50\n",
      " - 0s - loss: 0.5340 - acc: 0.9074 - val_loss: 0.5413 - val_acc: 0.8903\n",
      "Epoch 46/50\n",
      " - 0s - loss: 0.5194 - acc: 0.9058 - val_loss: 0.5294 - val_acc: 0.8840\n",
      "Epoch 47/50\n",
      " - 0s - loss: 0.5065 - acc: 0.9121 - val_loss: 0.5187 - val_acc: 0.8840\n",
      "Epoch 48/50\n",
      " - 0s - loss: 0.4940 - acc: 0.9137 - val_loss: 0.5087 - val_acc: 0.8903\n",
      "Epoch 49/50\n",
      " - 0s - loss: 0.4825 - acc: 0.9137 - val_loss: 0.4988 - val_acc: 0.8934\n",
      "Epoch 50/50\n",
      " - 0s - loss: 0.4710 - acc: 0.9152 - val_loss: 0.4884 - val_acc: 0.8903\n"
     ]
    }
   ],
   "source": [
    "# initialize ANN\n",
    "model = Sequential()\n",
    "\n",
    "#Add hidden layer with n = 100\n",
    "model.add(Dense(100, activation = 'sigmoid', input_shape = (n_cols,),  bias_initializer = keras.initializers.Ones() ))\n",
    "\n",
    "# Add output layer : output_dim = 10 means output layer has 10 nodes\n",
    "model.add(Dense(10, activation = 'sigmoid'))\n",
    "\n",
    "#compiling the model\n",
    "my_optimizer = optimizers.SGD(lr=0.01, decay=1e-6, momentum=0.9, nesterov=True)\n",
    "model.compile(optimizer = my_optimizer, loss = 'categorical_crossentropy', metrics = ['accuracy'])\n",
    "\n",
    "model.summary()\n",
    "\n",
    "#Running model for 50 epochs on train data set\n",
    "history = model.fit(X_train, y_train, batch_size=128, epochs=50, verbose=2, validation_data = (X_test,y_test))"
   ]
  },
  {
   "cell_type": "code",
   "execution_count": 36,
   "metadata": {},
   "outputs": [
    {
     "data": {
      "image/png": "[encoded data removed]",
      "text/plain": [
       "<Figure size 432x288 with 2 Axes>"
      ]
     },
     "metadata": {},
     "output_type": "display_data"
    }
   ],
   "source": [
    "# Plot the loss and accuracy curves for training and validation \n",
    "fig, ax = plt.subplots(2,1)\n",
    "ax[0].plot(history.history['loss'], color='b', label=\"Training loss(Y) Vs Epochs(X)\")\n",
    "ax[0].plot(history.history['val_loss'], color='r', label=\"validation loss(Y) Vs Epochs(X)\",axes =ax[0])\n",
    "legend = ax[0].legend(loc='best', shadow=True)\n",
    "\n",
    "ax[1].plot(history.history['acc'], color='b', label=\"Training accuracy(Y) Vs Epochs(X)\")\n",
    "ax[1].plot(history.history['val_acc'], color='r',label=\"Validation accuracy(Y) Vs Epochs(X)\")\n",
    "legend = ax[1].legend(loc='best', shadow=True)"
   ]
  },
  {
   "cell_type": "code",
   "execution_count": 37,
   "metadata": {},
   "outputs": [
    {
     "name": "stdout",
     "output_type": "stream",
     "text": [
      "[[131   0   0   0   1   0   0   0   1   0]\n",
      " [  0 114   0   2   0   2   1  12   0   0]\n",
      " [  0   2 117   0   2   0   0   0   3   1]\n",
      " [  0   4   0 112   0   2   0   0   2   4]\n",
      " [  0   5   0   0 113   1   2   4   0   1]\n",
      " [  1   0   1   1   0 124   2   1   1   0]\n",
      " [  2   1   0   0   2   1 129   0   0   0]\n",
      " [  0   4   0   0   2   0   1 114   2   3]\n",
      " [  0   2   2   1   0   1   0   1 112   1]\n",
      " [  0   1   0  10   2   1   0   1   5 103]]\n"
     ]
    }
   ],
   "source": [
    "#to plot Confusion Matrix\n",
    "##https://www.kaggle.com/abhishekkrsingh/keras-101-mnist-dataset\n",
    "from sklearn.metrics import confusion_matrix\n",
    "import itertools\n",
    "\n",
    "# Predict the values from the validation dataset\n",
    "Y_pred = model.predict(X_train)\n",
    "\n",
    "#Y_pred is this array - you can check by Y_pred[1]\n",
    "#array([0.5873542 , 0.40650836, 0.5396446 , 0.47721234, 0.48955962,\n",
    "#      0.54455054, 0.4399726 , 0.34644568, 0.3895176 , 0.41124493],\n",
    "#      dtype=float32)\n",
    "\n",
    "#becuase confusion matrix works on 1 classification column, but we have 10 cols in Y - 256 : 266, \n",
    "#or 10 predicted values of Y in these 10 different columns, so we will convert them to single column using argmax function\n",
    "# Convert predictions classes to one hot vectors \n",
    "Y_pred_classes = np.argmax(Y_pred,axis = 1) \n",
    "# Convert validation observations to one hot vectors\n",
    "#But first convert it to array, because type(y_train) is DF and argmax doesnot work on DF\n",
    "y_train = np.asarray(y_train)\n",
    "\n",
    "Y_true = np.argmax(y_train,axis = 1)\n",
    "# compute the confusion matrix\n",
    "confusion_mtx = confusion_matrix(Y_true, Y_pred_classes) \n",
    "print(confusion_mtx)"
   ]
  },
  {
   "cell_type": "code",
   "execution_count": 38,
   "metadata": {},
   "outputs": [
    {
     "data": {
      "text/plain": [
       "<matplotlib.axes._subplots.AxesSubplot at 0x183e8f76208>"
      ]
     },
     "execution_count": 38,
     "metadata": {},
     "output_type": "execute_result"
    },
    {
     "data": {
      "image/png": "[encoded data removed]",
      "text/plain": [
       "<Figure size 432x288 with 2 Axes>"
      ]
     },
     "metadata": {},
     "output_type": "display_data"
    }
   ],
   "source": [
    "#plotting the confusion matrix\n",
    "import seaborn as sns\n",
    "sns.heatmap(confusion_mtx, annot=True, cmap = 'autumn', alpha=0.7)"
   ]
  },
  {
   "cell_type": "markdown",
   "metadata": {},
   "source": [
    "# QnA for part1"
   ]
  },
  {
   "cell_type": "markdown",
   "metadata": {},
   "source": [
    "1a Conduct experiments with n = 20, 50 and 100. (Hint: remember to include\n",
    "bias unit weights).....DONE above"
   ]
  },
  {
   "cell_type": "markdown",
   "metadata": {},
   "source": [
    "1b Give a plot of both training and test accuracy as a function of epoch number\n",
    "(graph both of these on sample plot)......DONE above"
   ]
  },
  {
   "cell_type": "markdown",
   "metadata": {},
   "source": [
    "1c Discuss your results. How does number of hidden units affect the final\n",
    "accuracy on the test data?\n",
    "N is the number of hidden units \n",
    "At N = 20, accuracy_train = 0.7920, accuracy_test = 0.8088\n",
    "At N = 50, accuracy_train = 0.9003, accuracy_test = 0.8809\n",
    "At N = 100, accuracy_train = 0.9113, accuracy_test = 0.9028\n",
    "We can claerly observe that keeping all hyper parameters constant, with the increase in number of hidden layers, \n",
    "accuarcy on test and train data increases.\n",
    "When a neural network has too few hidden neurons, it does not have the capacity to learn enough of the underlying patterns to distinguish between 0 – 9 effectively. When the neural network has more number of neurons at hidden layer, the neural network start to do better. "
   ]
  },
  {
   "cell_type": "markdown",
   "metadata": {},
   "source": [
    "1d Discuss your results. How does number of hidden units affect number of\n",
    "epochs needed for training to converge?\n",
    "More the number of epochs, more time neural network will take to run."
   ]
  },
  {
   "cell_type": "markdown",
   "metadata": {},
   "source": [
    "1e Is there any evidence that any of your networks overfit to the training data? If\n",
    "so, what is the evidence?\n",
    "Overfitting means when i get better accuracy at training data than test data. In all the 3 scenerios above, where we used hidden units as 20, 50 and 100, we have accuracy on training data a bit higher than test data, which shows the evidence of slight overfitting. Also in each of the graphs plotted above, the blue line(training accuracy) is above the red line (test accuracy), showing train accuarcy value is higher than test accuracy value.\n"
   ]
  },
  {
   "cell_type": "markdown",
   "metadata": {},
   "source": []
  },
  {
   "cell_type": "markdown",
   "metadata": {},
   "source": [
    "#  END of Q1 ################################"
   ]
  },
  {
   "cell_type": "code",
   "execution_count": 39,
   "metadata": {},
   "outputs": [],
   "source": [
    "#Q2 - fix number of hidden units = 100 and train data with 0.25 "
   ]
  },
  {
   "cell_type": "code",
   "execution_count": 40,
   "metadata": {},
   "outputs": [
    {
     "data": {
      "text/plain": [
       "(1593, 266)"
      ]
     },
     "execution_count": 40,
     "metadata": {},
     "output_type": "execute_result"
    }
   ],
   "source": [
    "#Check number of rows and columns - 1593 rows and 266 columns\n",
    "df.shape"
   ]
  },
  {
   "cell_type": "markdown",
   "metadata": {},
   "source": [
    "# NN4: training data = 0.25 and hidden nodes = 100"
   ]
  },
  {
   "cell_type": "code",
   "execution_count": 41,
   "metadata": {},
   "outputs": [],
   "source": [
    "#initial 256 columns are stored in X variable and remaining in Y variable\n",
    "#number of colums are the number of input nodes\n",
    "X = df.iloc[:,0:256]\n",
    "y = df.iloc[:,256:266]\n",
    "\n",
    "#train- test data split\n",
    "#Stratify = y will preserve the dataset proportions for better prediction and reproduceability of results\n",
    "X_train, X_test, y_train, y_test = train_test_split(X, y, test_size=0.75, random_state=42, stratify=y)"
   ]
  },
  {
   "cell_type": "code",
   "execution_count": 42,
   "metadata": {},
   "outputs": [],
   "source": [
    "#reshape function does not work on dataframe, got error in next step. therefore, I first converted DF to array \n",
    "X_train = np.asarray(X_train)\n",
    "X_test = np.asarray(X_test)"
   ]
  },
  {
   "cell_type": "code",
   "execution_count": 43,
   "metadata": {},
   "outputs": [],
   "source": [
    "# Flatten the images\n",
    "image_vector_size = 16*16\n",
    "X_train = X_train.reshape(X_train.shape[0], image_vector_size)\n",
    "X_test = X_test.reshape(X_test.shape[0], image_vector_size)"
   ]
  },
  {
   "cell_type": "code",
   "execution_count": 44,
   "metadata": {},
   "outputs": [
    {
     "name": "stdout",
     "output_type": "stream",
     "text": [
      "256\n"
     ]
    }
   ],
   "source": [
    "num_classes = 10\n",
    "n_cols = X_train.shape[1]\n",
    "print(n_cols)"
   ]
  },
  {
   "cell_type": "code",
   "execution_count": 45,
   "metadata": {},
   "outputs": [
    {
     "name": "stdout",
     "output_type": "stream",
     "text": [
      "_________________________________________________________________\n",
      "Layer (type)                 Output Shape              Param #   \n",
      "=================================================================\n",
      "dense_7 (Dense)              (None, 100)               25700     \n",
      "_________________________________________________________________\n",
      "dense_8 (Dense)              (None, 10)                1010      \n",
      "=================================================================\n",
      "Total params: 26,710\n",
      "Trainable params: 26,710\n",
      "Non-trainable params: 0\n",
      "_________________________________________________________________\n",
      "Train on 398 samples, validate on 1195 samples\n",
      "Epoch 1/50\n",
      " - 0s - loss: 2.4068 - acc: 0.1005 - val_loss: 2.3836 - val_acc: 0.1013\n",
      "Epoch 2/50\n",
      " - 0s - loss: 2.3639 - acc: 0.1005 - val_loss: 2.3430 - val_acc: 0.1013\n",
      "Epoch 3/50\n",
      " - 0s - loss: 2.3286 - acc: 0.1005 - val_loss: 2.3221 - val_acc: 0.1013\n",
      "Epoch 4/50\n",
      " - 0s - loss: 2.3126 - acc: 0.1005 - val_loss: 2.3112 - val_acc: 0.1013\n",
      "Epoch 5/50\n",
      " - 0s - loss: 2.3034 - acc: 0.1005 - val_loss: 2.3027 - val_acc: 0.1079\n",
      "Epoch 6/50\n",
      " - 0s - loss: 2.2947 - acc: 0.1106 - val_loss: 2.2952 - val_acc: 0.1598\n",
      "Epoch 7/50\n",
      " - 0s - loss: 2.2876 - acc: 0.1633 - val_loss: 2.2887 - val_acc: 0.1849\n",
      "Epoch 8/50\n",
      " - 0s - loss: 2.2822 - acc: 0.2010 - val_loss: 2.2832 - val_acc: 0.1858\n",
      "Epoch 9/50\n",
      " - 0s - loss: 2.2765 - acc: 0.1960 - val_loss: 2.2781 - val_acc: 0.1707\n",
      "Epoch 10/50\n",
      " - 0s - loss: 2.2714 - acc: 0.1809 - val_loss: 2.2734 - val_acc: 0.1556\n",
      "Epoch 11/50\n",
      " - 0s - loss: 2.2656 - acc: 0.1734 - val_loss: 2.2680 - val_acc: 0.1423\n",
      "Epoch 12/50\n",
      " - 0s - loss: 2.2597 - acc: 0.1608 - val_loss: 2.2624 - val_acc: 0.1473\n",
      "Epoch 13/50\n",
      " - 0s - loss: 2.2539 - acc: 0.1709 - val_loss: 2.2570 - val_acc: 0.1590\n",
      "Epoch 14/50\n",
      " - 0s - loss: 2.2473 - acc: 0.1834 - val_loss: 2.2513 - val_acc: 0.1657\n",
      "Epoch 15/50\n",
      " - 0s - loss: 2.2404 - acc: 0.2035 - val_loss: 2.2453 - val_acc: 0.1933\n",
      "Epoch 16/50\n",
      " - 0s - loss: 2.2335 - acc: 0.2261 - val_loss: 2.2393 - val_acc: 0.2377\n",
      "Epoch 17/50\n",
      " - 0s - loss: 2.2269 - acc: 0.2764 - val_loss: 2.2328 - val_acc: 0.2895\n",
      "Epoch 18/50\n",
      " - 0s - loss: 2.2193 - acc: 0.3392 - val_loss: 2.2251 - val_acc: 0.3163\n",
      "Epoch 19/50\n",
      " - 0s - loss: 2.2096 - acc: 0.3894 - val_loss: 2.2154 - val_acc: 0.3264\n",
      "Epoch 20/50\n",
      " - 0s - loss: 2.1977 - acc: 0.3719 - val_loss: 2.2033 - val_acc: 0.3146\n",
      "Epoch 21/50\n",
      " - 0s - loss: 2.1837 - acc: 0.3518 - val_loss: 2.1900 - val_acc: 0.3096\n",
      "Epoch 22/50\n",
      " - 0s - loss: 2.1689 - acc: 0.3593 - val_loss: 2.1755 - val_acc: 0.3464\n",
      "Epoch 23/50\n",
      " - 0s - loss: 2.1535 - acc: 0.4146 - val_loss: 2.1576 - val_acc: 0.4335\n",
      "Epoch 24/50\n",
      " - 0s - loss: 2.1320 - acc: 0.5302 - val_loss: 2.1381 - val_acc: 0.4845\n",
      "Epoch 25/50\n",
      " - 0s - loss: 2.1114 - acc: 0.5704 - val_loss: 2.1211 - val_acc: 0.4577\n",
      "Epoch 26/50\n",
      " - 0s - loss: 2.0926 - acc: 0.5226 - val_loss: 2.1021 - val_acc: 0.4536\n",
      "Epoch 27/50\n",
      " - 0s - loss: 2.0699 - acc: 0.5427 - val_loss: 2.0800 - val_acc: 0.4946\n",
      "Epoch 28/50\n",
      " - 0s - loss: 2.0449 - acc: 0.5754 - val_loss: 2.0587 - val_acc: 0.5188\n",
      "Epoch 29/50\n",
      " - 0s - loss: 2.0230 - acc: 0.5603 - val_loss: 2.0328 - val_acc: 0.5397\n",
      "Epoch 30/50\n",
      " - 0s - loss: 1.9910 - acc: 0.6080 - val_loss: 2.0035 - val_acc: 0.5607\n",
      "Epoch 31/50\n",
      " - 0s - loss: 1.9604 - acc: 0.6608 - val_loss: 1.9774 - val_acc: 0.5891\n",
      "Epoch 32/50\n",
      " - 0s - loss: 1.9306 - acc: 0.6884 - val_loss: 1.9519 - val_acc: 0.6008\n",
      "Epoch 33/50\n",
      " - 0s - loss: 1.9011 - acc: 0.7060 - val_loss: 1.9250 - val_acc: 0.5958\n",
      "Epoch 34/50\n",
      " - 0s - loss: 1.8723 - acc: 0.7035 - val_loss: 1.8954 - val_acc: 0.6469\n",
      "Epoch 35/50\n",
      " - 0s - loss: 1.8374 - acc: 0.7286 - val_loss: 1.8661 - val_acc: 0.6586\n",
      "Epoch 36/50\n",
      " - 0s - loss: 1.8059 - acc: 0.7337 - val_loss: 1.8370 - val_acc: 0.6636\n",
      "Epoch 37/50\n",
      " - 0s - loss: 1.7726 - acc: 0.7663 - val_loss: 1.8063 - val_acc: 0.6745\n",
      "Epoch 38/50\n",
      " - 0s - loss: 1.7380 - acc: 0.7814 - val_loss: 1.7747 - val_acc: 0.7021\n",
      "Epoch 39/50\n",
      " - 0s - loss: 1.7045 - acc: 0.8065 - val_loss: 1.7412 - val_acc: 0.7272\n",
      "Epoch 40/50\n",
      " - 0s - loss: 1.6691 - acc: 0.8417 - val_loss: 1.7119 - val_acc: 0.7180\n",
      "Epoch 41/50\n",
      " - 0s - loss: 1.6364 - acc: 0.8417 - val_loss: 1.6843 - val_acc: 0.7347\n",
      "Epoch 42/50\n",
      " - 0s - loss: 1.6057 - acc: 0.8543 - val_loss: 1.6524 - val_acc: 0.7481\n",
      "Epoch 43/50\n",
      " - 0s - loss: 1.5686 - acc: 0.8392 - val_loss: 1.6169 - val_acc: 0.7439\n",
      "Epoch 44/50\n",
      " - 0s - loss: 1.5294 - acc: 0.8342 - val_loss: 1.5892 - val_acc: 0.7238\n",
      "Epoch 45/50\n",
      " - 0s - loss: 1.5010 - acc: 0.8141 - val_loss: 1.5587 - val_acc: 0.7347\n",
      "Epoch 46/50\n",
      " - 0s - loss: 1.4650 - acc: 0.8492 - val_loss: 1.5269 - val_acc: 0.7699\n",
      "Epoch 47/50\n",
      " - 0s - loss: 1.4319 - acc: 0.8643 - val_loss: 1.4999 - val_acc: 0.7623\n",
      "Epoch 48/50\n",
      " - 0s - loss: 1.4041 - acc: 0.8442 - val_loss: 1.4768 - val_acc: 0.7364\n",
      "Epoch 49/50\n",
      " - 0s - loss: 1.3754 - acc: 0.8191 - val_loss: 1.4438 - val_acc: 0.7623\n",
      "Epoch 50/50\n",
      " - 0s - loss: 1.3408 - acc: 0.8367 - val_loss: 1.4161 - val_acc: 0.7439\n"
     ]
    }
   ],
   "source": [
    "# initialize ANN\n",
    "model = Sequential()\n",
    "\n",
    "#Add hidden layer with n = 100\n",
    "model.add(Dense(100, activation = 'sigmoid', input_shape = (n_cols,), bias_initializer = keras.initializers.Ones() ))\n",
    "\n",
    "# Add output layer : output_dim = 10 means output layer has 10 nodes\n",
    "model.add(Dense(10, activation = 'sigmoid'))\n",
    "\n",
    "#compiling the model\n",
    "my_optimizer = optimizers.SGD(lr=0.01, decay=1e-6, momentum=0.9, nesterov=True)\n",
    "model.compile(optimizer = my_optimizer, loss = 'categorical_crossentropy', metrics = ['accuracy'])\n",
    "\n",
    "model.summary()\n",
    "\n",
    "#Running model for 50 epochs on train data set\n",
    "history = model.fit(X_train, y_train, batch_size=128, epochs=50, verbose=2, validation_data = (X_test,y_test))"
   ]
  },
  {
   "cell_type": "code",
   "execution_count": 46,
   "metadata": {},
   "outputs": [
    {
     "data": {
      "image/png": "[encoded data removed]",
      "text/plain": [
       "<Figure size 432x288 with 2 Axes>"
      ]
     },
     "metadata": {},
     "output_type": "display_data"
    }
   ],
   "source": [
    "# Plot the loss and accuracy curves for training and validation \n",
    "fig, ax = plt.subplots(2,1)\n",
    "ax[0].plot(history.history['loss'], color='b', label=\"Training loss(Y) Vs Epochs(X)\")\n",
    "ax[0].plot(history.history['val_loss'], color='r', label=\"validation loss(Y) Vs Epochs(X)\",axes =ax[0])\n",
    "legend = ax[0].legend(loc='best', shadow=True)\n",
    "\n",
    "ax[1].plot(history.history['acc'], color='b', label=\"Training accuracy(Y) Vs Epochs(X)\")\n",
    "ax[1].plot(history.history['val_acc'], color='r',label=\"Validation accuracy(Y) Vs Epochs(X)\")\n",
    "legend = ax[1].legend(loc='best', shadow=True)"
   ]
  },
  {
   "cell_type": "code",
   "execution_count": 47,
   "metadata": {},
   "outputs": [
    {
     "name": "stdout",
     "output_type": "stream",
     "text": [
      "[[38  0  0  0  0  0  0  0  2  0]\n",
      " [ 0 38  0  0  0  0  1  1  0  0]\n",
      " [ 0  5 24  1  0  1  2  1  6  0]\n",
      " [ 0  1  0 36  0  0  0  0  3  0]\n",
      " [ 0  3  0  0 36  0  0  1  0  0]\n",
      " [ 0  0  0  1  0 39  0  0  0  0]\n",
      " [ 0  0  0  0  1  0 39  0  0  0]\n",
      " [ 0  7  0  0  0  0  0 33  0  0]\n",
      " [ 0  4  0  4  0  3  2  0 26  0]\n",
      " [ 3  2  0  6  0  3  0  0  2 23]]\n"
     ]
    }
   ],
   "source": [
    "#to plot Confusion Matrix\n",
    "##https://www.kaggle.com/abhishekkrsingh/keras-101-mnist-dataset\n",
    "from sklearn.metrics import confusion_matrix\n",
    "import itertools\n",
    "\n",
    "# Predict the values from the validation dataset\n",
    "Y_pred = model.predict(X_train)\n",
    "\n",
    "#Y_pred is this array - you can check by Y_pred[1]\n",
    "#array([0.5873542 , 0.40650836, 0.5396446 , 0.47721234, 0.48955962,\n",
    "#      0.54455054, 0.4399726 , 0.34644568, 0.3895176 , 0.41124493],\n",
    "#      dtype=float32)\n",
    "\n",
    "#becuase confusion matrix works on 1 classification column, but we have 10 cols in Y - 256 : 266, \n",
    "#or 10 predicted values of Y in these 10 different columns, so we will convert them to single column using argmax function\n",
    "# Convert predictions classes to one hot vectors \n",
    "Y_pred_classes = np.argmax(Y_pred,axis = 1) \n",
    "# Convert validation observations to one hot vectors\n",
    "#But first convert it to array, because type(y_train) is DF and argmax doesnot work on DF\n",
    "y_train = np.asarray(y_train)\n",
    "\n",
    "Y_true = np.argmax(y_train,axis = 1)\n",
    "# compute the confusion matrix\n",
    "confusion_mtx = confusion_matrix(Y_true, Y_pred_classes) \n",
    "print(confusion_mtx)"
   ]
  },
  {
   "cell_type": "code",
   "execution_count": 48,
   "metadata": {},
   "outputs": [
    {
     "data": {
      "text/plain": [
       "<matplotlib.axes._subplots.AxesSubplot at 0x183e77a8e10>"
      ]
     },
     "execution_count": 48,
     "metadata": {},
     "output_type": "execute_result"
    },
    {
     "data": {
      "image/png": "[encoded data removed]",
      "text/plain": [
       "<Figure size 432x288 with 2 Axes>"
      ]
     },
     "metadata": {},
     "output_type": "display_data"
    }
   ],
   "source": [
    "#plotting the confusion matrix\n",
    "import seaborn as sns\n",
    "sns.heatmap(confusion_mtx, annot=True, cmap = 'autumn', alpha=0.7)"
   ]
  },
  {
   "cell_type": "markdown",
   "metadata": {},
   "source": [
    "# NN5: training data = 0.50 and hidden nodes = 100"
   ]
  },
  {
   "cell_type": "code",
   "execution_count": 49,
   "metadata": {},
   "outputs": [],
   "source": [
    "#initial 256 columns are stored in X variable and remaining in Y variable\n",
    "#number of colums are the number of input nodes\n",
    "X = df.iloc[:,0:256]\n",
    "y = df.iloc[:,256:266]\n",
    "\n",
    "#train- test data split\n",
    "#Stratify = y will preserve the dataset proportions for better prediction and reproduceability of results\n",
    "X_train, X_test, y_train, y_test = train_test_split(X, y, test_size=0.50, random_state=42, stratify=y)"
   ]
  },
  {
   "cell_type": "code",
   "execution_count": 50,
   "metadata": {},
   "outputs": [],
   "source": [
    "#reshape function does not work on dataframe, got error in next step. therefore, I first converted DF to array \n",
    "X_train = np.asarray(X_train)\n",
    "X_test = np.asarray(X_test)"
   ]
  },
  {
   "cell_type": "code",
   "execution_count": 51,
   "metadata": {},
   "outputs": [],
   "source": [
    "# Flatten the images\n",
    "image_vector_size = 16*16\n",
    "X_train = X_train.reshape(X_train.shape[0], image_vector_size)\n",
    "X_test = X_test.reshape(X_test.shape[0], image_vector_size)"
   ]
  },
  {
   "cell_type": "code",
   "execution_count": 52,
   "metadata": {},
   "outputs": [
    {
     "name": "stdout",
     "output_type": "stream",
     "text": [
      "256\n"
     ]
    }
   ],
   "source": [
    "num_classes = 10\n",
    "n_cols = X_train.shape[1]\n",
    "print(n_cols)"
   ]
  },
  {
   "cell_type": "code",
   "execution_count": 53,
   "metadata": {},
   "outputs": [
    {
     "name": "stdout",
     "output_type": "stream",
     "text": [
      "_________________________________________________________________\n",
      "Layer (type)                 Output Shape              Param #   \n",
      "=================================================================\n",
      "dense_9 (Dense)              (None, 100)               25700     \n",
      "_________________________________________________________________\n",
      "dense_10 (Dense)             (None, 10)                1010      \n",
      "=================================================================\n",
      "Total params: 26,710\n",
      "Trainable params: 26,710\n",
      "Non-trainable params: 0\n",
      "_________________________________________________________________\n",
      "Train on 796 samples, validate on 797 samples\n",
      "Epoch 1/50\n",
      " - 0s - loss: 2.3470 - acc: 0.0729 - val_loss: 2.3231 - val_acc: 0.0665\n",
      "Epoch 2/50\n",
      " - 0s - loss: 2.3100 - acc: 0.0766 - val_loss: 2.2957 - val_acc: 0.0728\n",
      "Epoch 3/50\n",
      " - 0s - loss: 2.2876 - acc: 0.0879 - val_loss: 2.2827 - val_acc: 0.1054\n",
      "Epoch 4/50\n",
      " - 0s - loss: 2.2752 - acc: 0.1269 - val_loss: 2.2727 - val_acc: 0.1230\n",
      "Epoch 5/50\n",
      " - 0s - loss: 2.2647 - acc: 0.1445 - val_loss: 2.2619 - val_acc: 0.1556\n",
      "Epoch 6/50\n",
      " - 0s - loss: 2.2522 - acc: 0.1834 - val_loss: 2.2493 - val_acc: 0.2045\n",
      "Epoch 7/50\n",
      " - 0s - loss: 2.2392 - acc: 0.2286 - val_loss: 2.2357 - val_acc: 0.2472\n",
      "Epoch 8/50\n",
      " - 0s - loss: 2.2245 - acc: 0.2613 - val_loss: 2.2198 - val_acc: 0.2836\n",
      "Epoch 9/50\n",
      " - 0s - loss: 2.2070 - acc: 0.3216 - val_loss: 2.2006 - val_acc: 0.3588\n",
      "Epoch 10/50\n",
      " - 0s - loss: 2.1850 - acc: 0.4121 - val_loss: 2.1768 - val_acc: 0.4605\n",
      "Epoch 11/50\n",
      " - 0s - loss: 2.1585 - acc: 0.4937 - val_loss: 2.1491 - val_acc: 0.5082\n",
      "Epoch 12/50\n",
      " - 0s - loss: 2.1274 - acc: 0.5540 - val_loss: 2.1170 - val_acc: 0.5408\n",
      "Epoch 13/50\n",
      " - 0s - loss: 2.0926 - acc: 0.5641 - val_loss: 2.0799 - val_acc: 0.5659\n",
      "Epoch 14/50\n",
      " - 0s - loss: 2.0525 - acc: 0.6055 - val_loss: 2.0372 - val_acc: 0.5997\n",
      "Epoch 15/50\n",
      " - 0s - loss: 2.0065 - acc: 0.6520 - val_loss: 1.9914 - val_acc: 0.6412\n",
      "Epoch 16/50\n",
      " - 0s - loss: 1.9585 - acc: 0.6834 - val_loss: 1.9435 - val_acc: 0.6562\n",
      "Epoch 17/50\n",
      " - 0s - loss: 1.9069 - acc: 0.6897 - val_loss: 1.8929 - val_acc: 0.6863\n",
      "Epoch 18/50\n",
      " - 0s - loss: 1.8544 - acc: 0.7324 - val_loss: 1.8415 - val_acc: 0.7164\n",
      "Epoch 19/50\n",
      " - 0s - loss: 1.7996 - acc: 0.7324 - val_loss: 1.7877 - val_acc: 0.7215\n",
      "Epoch 20/50\n",
      " - 0s - loss: 1.7441 - acc: 0.7676 - val_loss: 1.7367 - val_acc: 0.7503\n",
      "Epoch 21/50\n",
      " - 0s - loss: 1.6901 - acc: 0.7688 - val_loss: 1.6824 - val_acc: 0.7478\n",
      "Epoch 22/50\n",
      " - 0s - loss: 1.6345 - acc: 0.7714 - val_loss: 1.6275 - val_acc: 0.7553\n",
      "Epoch 23/50\n",
      " - 0s - loss: 1.5808 - acc: 0.7613 - val_loss: 1.5766 - val_acc: 0.7390\n",
      "Epoch 24/50\n",
      " - 0s - loss: 1.5242 - acc: 0.7764 - val_loss: 1.5243 - val_acc: 0.7742\n",
      "Epoch 25/50\n",
      " - 0s - loss: 1.4702 - acc: 0.8065 - val_loss: 1.4720 - val_acc: 0.7892\n",
      "Epoch 26/50\n",
      " - 0s - loss: 1.4172 - acc: 0.8128 - val_loss: 1.4238 - val_acc: 0.7880\n",
      "Epoch 27/50\n",
      " - 0s - loss: 1.3696 - acc: 0.8065 - val_loss: 1.3761 - val_acc: 0.7842\n",
      "Epoch 28/50\n",
      " - 0s - loss: 1.3180 - acc: 0.8241 - val_loss: 1.3286 - val_acc: 0.8168\n",
      "Epoch 29/50\n",
      " - 0s - loss: 1.2716 - acc: 0.8467 - val_loss: 1.2845 - val_acc: 0.8306\n",
      "Epoch 30/50\n",
      " - 0s - loss: 1.2257 - acc: 0.8467 - val_loss: 1.2411 - val_acc: 0.8294\n",
      "Epoch 31/50\n",
      " - 0s - loss: 1.1791 - acc: 0.8518 - val_loss: 1.2007 - val_acc: 0.8130\n",
      "Epoch 32/50\n",
      " - 0s - loss: 1.1375 - acc: 0.8518 - val_loss: 1.1605 - val_acc: 0.8243\n",
      "Epoch 33/50\n",
      " - 0s - loss: 1.0967 - acc: 0.8618 - val_loss: 1.1210 - val_acc: 0.8381\n",
      "Epoch 34/50\n",
      " - 0s - loss: 1.0600 - acc: 0.8555 - val_loss: 1.0870 - val_acc: 0.8344\n",
      "Epoch 35/50\n",
      " - 0s - loss: 1.0234 - acc: 0.8543 - val_loss: 1.0520 - val_acc: 0.8407\n",
      "Epoch 36/50\n",
      " - 0s - loss: 0.9872 - acc: 0.8656 - val_loss: 1.0200 - val_acc: 0.8369\n",
      "Epoch 37/50\n",
      " - 0s - loss: 0.9531 - acc: 0.8681 - val_loss: 0.9899 - val_acc: 0.8394\n",
      "Epoch 38/50\n",
      " - 0s - loss: 0.9243 - acc: 0.8643 - val_loss: 0.9602 - val_acc: 0.8419\n",
      "Epoch 39/50\n",
      " - 0s - loss: 0.8919 - acc: 0.8681 - val_loss: 0.9343 - val_acc: 0.8444\n",
      "Epoch 40/50\n",
      " - 0s - loss: 0.8659 - acc: 0.8693 - val_loss: 0.9080 - val_acc: 0.8407\n",
      "Epoch 41/50\n",
      " - 0s - loss: 0.8385 - acc: 0.8807 - val_loss: 0.8815 - val_acc: 0.8607\n",
      "Epoch 42/50\n",
      " - 0s - loss: 0.8123 - acc: 0.8769 - val_loss: 0.8598 - val_acc: 0.8582\n",
      "Epoch 43/50\n",
      " - 0s - loss: 0.7888 - acc: 0.8807 - val_loss: 0.8374 - val_acc: 0.8595\n",
      "Epoch 44/50\n",
      " - 0s - loss: 0.7663 - acc: 0.8807 - val_loss: 0.8187 - val_acc: 0.8532\n",
      "Epoch 45/50\n",
      " - 0s - loss: 0.7443 - acc: 0.8832 - val_loss: 0.7973 - val_acc: 0.8645\n",
      "Epoch 46/50\n",
      " - 0s - loss: 0.7223 - acc: 0.8869 - val_loss: 0.7779 - val_acc: 0.8607\n",
      "Epoch 47/50\n",
      " - 0s - loss: 0.7022 - acc: 0.8794 - val_loss: 0.7594 - val_acc: 0.8645\n",
      "Epoch 48/50\n",
      " - 0s - loss: 0.6840 - acc: 0.8945 - val_loss: 0.7423 - val_acc: 0.8720\n",
      "Epoch 49/50\n",
      " - 0s - loss: 0.6668 - acc: 0.8907 - val_loss: 0.7298 - val_acc: 0.8695\n",
      "Epoch 50/50\n",
      " - 0s - loss: 0.6492 - acc: 0.8920 - val_loss: 0.7130 - val_acc: 0.8683\n"
     ]
    }
   ],
   "source": [
    "# initialize ANN\n",
    "model = Sequential()\n",
    "\n",
    "#Add hidden layer with n = 100\n",
    "model.add(Dense(100, activation = 'sigmoid', input_shape = (n_cols,), bias_initializer = keras.initializers.Ones() ))\n",
    "\n",
    "# Add output layer : output_dim = 10 means output layer has 10 nodes\n",
    "model.add(Dense(10, activation = 'sigmoid'))\n",
    "\n",
    "#compiling the model\n",
    "my_optimizer = optimizers.SGD(lr=0.01, decay=1e-6, momentum=0.9, nesterov=True)\n",
    "model.compile(optimizer = my_optimizer, loss = 'categorical_crossentropy', metrics = ['accuracy'])\n",
    "\n",
    "model.summary()\n",
    "\n",
    "#Running model for 50 epochs on train data set\n",
    "history = model.fit(X_train, y_train, batch_size=128, epochs=50, verbose=2, validation_data = (X_test,y_test))"
   ]
  },
  {
   "cell_type": "code",
   "execution_count": 54,
   "metadata": {},
   "outputs": [
    {
     "data": {
      "image/png": "[encoded data removed]",
      "text/plain": [
       "<Figure size 432x288 with 2 Axes>"
      ]
     },
     "metadata": {},
     "output_type": "display_data"
    }
   ],
   "source": [
    "# Plot the loss and accuracy curves for training and validation \n",
    "fig, ax = plt.subplots(2,1)\n",
    "ax[0].plot(history.history['loss'], color='b', label=\"Training loss(Y) Vs Epochs(X)\")\n",
    "ax[0].plot(history.history['val_loss'], color='r', label=\"validation loss(Y) Vs Epochs(X)\",axes =ax[0])\n",
    "legend = ax[0].legend(loc='best', shadow=True)\n",
    "\n",
    "ax[1].plot(history.history['acc'], color='b', label=\"Training accuracy(Y) Vs Epochs(X)\")\n",
    "ax[1].plot(history.history['val_acc'], color='r',label=\"Validation accuracy(Y) Vs Epochs(X)\")\n",
    "legend = ax[1].legend(loc='best', shadow=True)"
   ]
  },
  {
   "cell_type": "code",
   "execution_count": 55,
   "metadata": {},
   "outputs": [
    {
     "name": "stdout",
     "output_type": "stream",
     "text": [
      "[[78  0  0  0  1  0  0  0  1  0]\n",
      " [ 0 65  0  1  1  1  1 11  0  1]\n",
      " [ 0  3 71  0  1  0  3  1  1  0]\n",
      " [ 0  2  0 73  0  0  0  0  1  4]\n",
      " [ 0  2  0  0 74  1  0  3  0  0]\n",
      " [ 0  0  0  2  1 76  0  0  0  0]\n",
      " [ 0  0  0  0  1  2 77  0  0  0]\n",
      " [ 0  5  0  0  2  0  0 71  0  1]\n",
      " [ 1  2  4  2  0  3  0  0 64  2]\n",
      " [ 2  2  0  9  1  1  0  0  3 61]]\n"
     ]
    }
   ],
   "source": [
    "#to plot Confusion Matrix\n",
    "##https://www.kaggle.com/abhishekkrsingh/keras-101-mnist-dataset\n",
    "from sklearn.metrics import confusion_matrix\n",
    "import itertools\n",
    "\n",
    "# Predict the values from the validation dataset\n",
    "Y_pred = model.predict(X_train)\n",
    "\n",
    "#Y_pred is this array - you can check by Y_pred[1]\n",
    "#array([0.5873542 , 0.40650836, 0.5396446 , 0.47721234, 0.48955962,\n",
    "#      0.54455054, 0.4399726 , 0.34644568, 0.3895176 , 0.41124493],\n",
    "#      dtype=float32)\n",
    "\n",
    "#becuase confusion matrix works on 1 classification column, but we have 10 cols in Y - 256 : 266, \n",
    "#or 10 predicted values of Y in these 10 different columns, so we will convert them to single column using argmax function\n",
    "# Convert predictions classes to one hot vectors \n",
    "Y_pred_classes = np.argmax(Y_pred,axis = 1) \n",
    "# Convert validation observations to one hot vectors\n",
    "#But first convert it to array, because type(y_train) is DF and argmax doesnot work on DF\n",
    "y_train = np.asarray(y_train)\n",
    "\n",
    "Y_true = np.argmax(y_train,axis = 1)\n",
    "# compute the confusion matrix\n",
    "confusion_mtx = confusion_matrix(Y_true, Y_pred_classes) \n",
    "print(confusion_mtx)"
   ]
  },
  {
   "cell_type": "code",
   "execution_count": 56,
   "metadata": {},
   "outputs": [
    {
     "data": {
      "text/plain": [
       "<matplotlib.axes._subplots.AxesSubplot at 0x183ea8aeac8>"
      ]
     },
     "execution_count": 56,
     "metadata": {},
     "output_type": "execute_result"
    },
    {
     "data": {
      "image/png": "[encoded data removed]",
      "text/plain": [
       "<Figure size 432x288 with 2 Axes>"
      ]
     },
     "metadata": {},
     "output_type": "display_data"
    }
   ],
   "source": [
    "#plotting the confusion matrix\n",
    "import seaborn as sns\n",
    "sns.heatmap(confusion_mtx, annot=True, cmap = 'autumn', alpha=0.7)\n",
    "\n",
    "#number 78 in the confusion matrix shows 78 events were correctly predicted as 0 and they were actually 0\n",
    "#while number 1 (1st row and 5 column) shows 1 event was actually 0 BUT it was wrongly predicted as 4"
   ]
  },
  {
   "cell_type": "markdown",
   "metadata": {},
   "source": [
    "# Observations:"
   ]
  },
  {
   "cell_type": "markdown",
   "metadata": {},
   "source": [
    "Conduct experiments by fixing your number of hidden units to 100. Instead\n",
    "of using all of the training examples, train two networks, using respectively one\n",
    "quarter and one half of the training examples for training. Make sure that in each\n",
    "case your training data is approximately balanced among the 10 different\n",
    "classes....DONE above for NN4 and NN5 model"
   ]
  },
  {
   "cell_type": "markdown",
   "metadata": {},
   "source": [
    "Give a plot of both training and test accuracy as a function of epoch number\n",
    "(graph both of these on sample plot)...as shown above"
   ]
  },
  {
   "cell_type": "markdown",
   "metadata": {},
   "source": [
    "Finding on the effect of size of training data on the final accuracy\n",
    "of test data?\n",
    "With 0.25-0.75 percent of training-test data split, the accuracy was low as compared to 0.50-0.50 training-test data split. On the basis of these results, we can say that more training data and less test data results in better accuracy. \n",
    "When a neural network has more training data set, it does not have the capacity to learn enough of the underlying patterns to distinguish between 0 – 9 effectively. As a result, the neural network starts to do better."
   ]
  },
  {
   "cell_type": "markdown",
   "metadata": {},
   "source": [
    "Finding on the size of training data affecting number of epochs\n",
    "needed for training to converge? More the number of epochs, it will take more time to run the model.\n"
   ]
  },
  {
   "cell_type": "markdown",
   "metadata": {},
   "source": [
    "Overfitting\n",
 
    "In simple terms, Overfitting means when we get better accuracy at training data than test data. In both neural networks of 100 hidden layer nodes and 50 epochs, NN4 and NN5 above, but with different test-train split, we have accuracy on training data a bit higher than test data, which shows the evidence of some overfitting. Also in each of the graphs plotted above, the blue line(training accuracy) is above the red line (test accuracy), showing train accuarcy value is higher than test accuracy value. \n",
    " "
   ]
  },
  {
   "cell_type": "code",
   "execution_count": 149,
   "metadata": {},
   "outputs": [],
   "source": [
    "#initial 256 columns are stored in X variable and remaining in Y variable\n",
    "#number of colums are the number of input nodes\n",
    "X = df.iloc[:,0:256]\n",
    "y = df.iloc[:,256:266]\n",
    "\n",
    "#train- test data split\n",
    "#Stratify = y will preserve the dataset proportions for better prediction and reproduceability of results\n",
    "X_train, X_test, y_train, y_test = train_test_split(X, y, test_size=0.10, random_state=42, stratify=y)"
   ]
  },
  {
   "cell_type": "code",
   "execution_count": 150,
   "metadata": {},
   "outputs": [],
   "source": [
    "#reshape function does not work on dataframe, got error in next step. therefore, I first converted DF to array \n",
    "X_train = np.asarray(X_train)\n",
    "X_test = np.asarray(X_test)"
   ]
  },
  {
   "cell_type": "code",
   "execution_count": 151,
   "metadata": {},
   "outputs": [],
   "source": [
    "# Flatten the images\n",
    "image_vector_size = 16*16\n",
    "X_train = X_train.reshape(X_train.shape[0], image_vector_size)\n",
    "X_test = X_test.reshape(X_test.shape[0], image_vector_size)"
   ]
  },
  {
   "cell_type": "code",
   "execution_count": 152,
   "metadata": {},
   "outputs": [
    {
     "name": "stdout",
     "output_type": "stream",
     "text": [
      "_________________________________________________________________\n",
      "Layer (type)                 Output Shape              Param #   \n",
      "=================================================================\n",
      "dense_83 (Dense)             (None, 510)               131070    \n",
      "_________________________________________________________________\n",
      "dense_84 (Dense)             (None, 10)                5110      \n",
      "=================================================================\n",
      "Total params: 136,180\n",
      "Trainable params: 136,180\n",
      "Non-trainable params: 0\n",
      "_________________________________________________________________\n",
      "Train on 1433 samples, validate on 160 samples\n",
      "Epoch 1/52\n",
      " - 2s - loss: 2.1558 - acc: 0.3057 - val_loss: 1.8395 - val_acc: 0.6750\n",
      "Epoch 2/52\n",
      " - 0s - loss: 1.5941 - acc: 0.7425 - val_loss: 1.3117 - val_acc: 0.7750\n",
      "Epoch 3/52\n",
      " - 0s - loss: 1.1151 - acc: 0.7920 - val_loss: 0.9512 - val_acc: 0.8438\n",
      "Epoch 4/52\n",
      " - 0s - loss: 0.8136 - acc: 0.8646 - val_loss: 0.7517 - val_acc: 0.8313\n",
      "Epoch 5/52\n",
      " - 0s - loss: 0.6372 - acc: 0.8814 - val_loss: 0.6291 - val_acc: 0.8500\n",
      "Epoch 6/52\n",
      " - 0s - loss: 0.5246 - acc: 0.9016 - val_loss: 0.5523 - val_acc: 0.8688\n",
      "Epoch 7/52\n",
      " - 0s - loss: 0.4525 - acc: 0.9107 - val_loss: 0.4969 - val_acc: 0.8875\n",
      "Epoch 8/52\n",
      " - 0s - loss: 0.3954 - acc: 0.9246 - val_loss: 0.4576 - val_acc: 0.8812\n",
      "Epoch 9/52\n",
      " - 0s - loss: 0.3475 - acc: 0.9337 - val_loss: 0.4222 - val_acc: 0.8812\n",
      "Epoch 10/52\n",
      " - 0s - loss: 0.3134 - acc: 0.9463 - val_loss: 0.3969 - val_acc: 0.8875\n",
      "Epoch 11/52\n",
      " - 0s - loss: 0.2854 - acc: 0.9463 - val_loss: 0.3809 - val_acc: 0.8875\n",
      "Epoch 12/52\n",
      " - 0s - loss: 0.2599 - acc: 0.9518 - val_loss: 0.3589 - val_acc: 0.8812\n",
      "Epoch 13/52\n",
      " - 0s - loss: 0.2417 - acc: 0.9595 - val_loss: 0.3493 - val_acc: 0.9062\n",
      "Epoch 14/52\n",
      " - 0s - loss: 0.2237 - acc: 0.9665 - val_loss: 0.3397 - val_acc: 0.9062\n",
      "Epoch 15/52\n",
      " - 0s - loss: 0.2052 - acc: 0.9686 - val_loss: 0.3326 - val_acc: 0.9000\n",
      "Epoch 16/52\n",
      " - 0s - loss: 0.1922 - acc: 0.9693 - val_loss: 0.3298 - val_acc: 0.9000\n",
      "Epoch 17/52\n",
      " - 0s - loss: 0.1787 - acc: 0.9742 - val_loss: 0.3171 - val_acc: 0.9187\n",
      "Epoch 18/52\n",
      " - 0s - loss: 0.1668 - acc: 0.9770 - val_loss: 0.3131 - val_acc: 0.9062\n",
      "Epoch 19/52\n",
      " - 0s - loss: 0.1567 - acc: 0.9798 - val_loss: 0.3115 - val_acc: 0.9062\n",
      "Epoch 20/52\n",
      " - 0s - loss: 0.1467 - acc: 0.9805 - val_loss: 0.3079 - val_acc: 0.9062\n",
      "Epoch 21/52\n",
      " - 0s - loss: 0.1370 - acc: 0.9853 - val_loss: 0.3011 - val_acc: 0.9187\n",
      "Epoch 22/52\n",
      " - 0s - loss: 0.1297 - acc: 0.9860 - val_loss: 0.2975 - val_acc: 0.9125\n",
      "Epoch 23/52\n",
      " - 0s - loss: 0.1265 - acc: 0.9881 - val_loss: 0.2927 - val_acc: 0.9125\n",
      "Epoch 24/52\n",
      " - 0s - loss: 0.1186 - acc: 0.9909 - val_loss: 0.2907 - val_acc: 0.9062\n",
      "Epoch 25/52\n",
      " - 0s - loss: 0.1118 - acc: 0.9888 - val_loss: 0.2929 - val_acc: 0.9000\n",
      "Epoch 26/52\n",
      " - 0s - loss: 0.1040 - acc: 0.9930 - val_loss: 0.2893 - val_acc: 0.9125\n",
      "Epoch 27/52\n",
      " - 0s - loss: 0.0997 - acc: 0.9937 - val_loss: 0.2937 - val_acc: 0.9000\n",
      "Epoch 28/52\n",
      " - 0s - loss: 0.0944 - acc: 0.9951 - val_loss: 0.2851 - val_acc: 0.9187\n",
      "Epoch 29/52\n",
      " - 0s - loss: 0.0912 - acc: 0.9951 - val_loss: 0.2922 - val_acc: 0.9125\n",
      "Epoch 30/52\n",
      " - 0s - loss: 0.0843 - acc: 0.9979 - val_loss: 0.2857 - val_acc: 0.9313\n",
      "Epoch 31/52\n",
      " - 0s - loss: 0.0803 - acc: 0.9958 - val_loss: 0.2926 - val_acc: 0.9187\n",
      "Epoch 32/52\n",
      " - 0s - loss: 0.0770 - acc: 0.9986 - val_loss: 0.2833 - val_acc: 0.9125\n",
      "Epoch 33/52\n",
      " - 0s - loss: 0.0735 - acc: 0.9986 - val_loss: 0.2828 - val_acc: 0.9250\n",
      "Epoch 34/52\n",
      " - 0s - loss: 0.0711 - acc: 0.9965 - val_loss: 0.2878 - val_acc: 0.9187\n",
      "Epoch 35/52\n",
      " - 0s - loss: 0.0679 - acc: 0.9979 - val_loss: 0.2822 - val_acc: 0.9313\n",
      "Epoch 36/52\n",
      " - 0s - loss: 0.0659 - acc: 0.9986 - val_loss: 0.2879 - val_acc: 0.9313\n",
      "Epoch 37/52\n",
      " - 0s - loss: 0.0623 - acc: 0.9979 - val_loss: 0.2988 - val_acc: 0.9062\n",
      "Epoch 38/52\n",
      " - 0s - loss: 0.0578 - acc: 0.9986 - val_loss: 0.2958 - val_acc: 0.9187\n",
      "Epoch 39/52\n",
      " - 0s - loss: 0.0567 - acc: 0.9979 - val_loss: 0.2934 - val_acc: 0.9187\n",
      "Epoch 40/52\n",
      " - 0s - loss: 0.0537 - acc: 0.9993 - val_loss: 0.2955 - val_acc: 0.9187\n",
      "Epoch 41/52\n",
      " - 0s - loss: 0.0520 - acc: 0.9993 - val_loss: 0.2908 - val_acc: 0.9125\n",
      "Epoch 42/52\n",
      " - 0s - loss: 0.0487 - acc: 0.9993 - val_loss: 0.2858 - val_acc: 0.9187\n",
      "Epoch 43/52\n",
      " - 0s - loss: 0.0470 - acc: 0.9993 - val_loss: 0.2887 - val_acc: 0.9125\n",
      "Epoch 44/52\n",
      " - 0s - loss: 0.0449 - acc: 0.9993 - val_loss: 0.2875 - val_acc: 0.9125\n",
      "Epoch 45/52\n",
      " - 0s - loss: 0.0431 - acc: 0.9993 - val_loss: 0.2860 - val_acc: 0.9125\n",
      "Epoch 46/52\n",
      " - 0s - loss: 0.0413 - acc: 0.9993 - val_loss: 0.2882 - val_acc: 0.9125\n",
      "Epoch 47/52\n",
      " - 0s - loss: 0.0397 - acc: 0.9993 - val_loss: 0.2879 - val_acc: 0.9187\n",
      "Epoch 48/52\n",
      " - 0s - loss: 0.0384 - acc: 0.9993 - val_loss: 0.2912 - val_acc: 0.9125\n",
      "Epoch 49/52\n",
      " - 0s - loss: 0.0370 - acc: 0.9993 - val_loss: 0.2888 - val_acc: 0.9187\n",
      "Epoch 50/52\n",
      " - 0s - loss: 0.0358 - acc: 0.9993 - val_loss: 0.2954 - val_acc: 0.9187\n",
      "Epoch 51/52\n",
      " - 0s - loss: 0.0349 - acc: 0.9993 - val_loss: 0.2936 - val_acc: 0.9125\n",
      "Epoch 52/52\n",
      " - 0s - loss: 0.0333 - acc: 0.9993 - val_loss: 0.2917 - val_acc: 0.9187\n"
     ]
    }
   ],
   "source": [
    "# initialize ANN\n",
    "model = Sequential()\n",
    "\n",
    "#Add hidden layer with n = 510\n",
    "model.add(Dense(510, activation = 'sigmoid', input_shape = (n_cols,) ))\n",
    "\n",
    "# Add output layer : output_dim = 10 means output layer has 10 nodes\n",
    "model.add(Dense(10, activation = 'sigmoid'))\n",
    "\n",
    "#compiling the model\n",
    "my_optimizer = optimizers.Adam(lr=0.001, decay=1e-6)\n",
    "#my_optimizer = optimizers.SGD(lr=0.001, decay=1e-6, momentum=0.9, nesterov=True)\n",
    "model.compile(optimizer = my_optimizer, loss = 'categorical_crossentropy', metrics = ['accuracy'])\n",
    "\n",
    "model.summary()\n",
    "\n",
    "#Running model for 50 epochs on train data set\n",
    "history = model.fit(X_train, y_train, batch_size=128, epochs=52, verbose=2, validation_data = (X_test,y_test))"
   ]
  },
  {
   "cell_type": "markdown",
   "metadata": {},
   "source": [
    "#with hidden layers = 200 \n",
    "Epoch 50/50\n",
    " - 0s - loss: 0.0742 - acc: 0.9982 - val_loss: 0.2943 - val_acc: 0.8954\n",
    "\n",
    "#with hidden layers = 300\n",
    "Epoch 50/50\n",
    " - 0s - loss: 0.0555 - acc: 0.9982 - val_loss: 0.2898 - val_acc: 0.9017\n",
    "\n",
    "#with hidden layers = 400\n",
    "Epoch 50/50\n",
    " - 0s - loss: 0.0430 - acc: 0.9991 - val_loss: 0.2848 - val_acc: 0.9100\n",
    "\n",
    "#with hidden layers = 500\n",
    " Epoch 50/50\n",
    " - 0s - loss: 8.8658e-04 - acc: 1.0000 - val_loss: 0.3248 - val_acc: 0.9226\n",
    "\n",
    "#with hidden layers = 600 ----- accuracy drops drastically\n",
    " Epoch 50/50\n",
    " - 0s - loss: 1.0195 - acc: 0.1812 - val_loss: 1.4676 - val_acc: 0.1841\n",
    "\n",
    "#with hidden layers = 510 \n",
    " Epoch 50/50\n",
    " - 0s - loss: 6.8803e-04 - acc: 1.0000 - val_loss: 0.3429 - val_acc: 0.9289\n",
    " \n",
    " ########## Optimum number of hidden layers = 510, optimizer = Adam, default bias initializer of zeros, lr = 0.001, train - test split = 90:10\n",
    " \n",
    " With optimizer = SGD , accuracy drops "
   ]
  },
  {
   "cell_type": "markdown",
   "metadata": {},
   "source": [
    "I tried to find optimum hyperparameters by Grid search also but it takes lot of time, \n",
    "so I played around with various hyper parameters - \n",
    "        number of hidden laters(upto 600), \n",
    "        learning rate(0.1, 0.001, 0.02, 0.05), \n",
    "        activation function(Relu, SGD,Adam), \n",
    "        train-test data split, \n",
    "        number of epochs,\n",
    "        bias initializer 0/1"
   ]
  },
  {
   "cell_type": "markdown",
   "metadata": {},
   "source": [
    "# Evaluating and improving ANN:\n",
    "#Using Grid search to get optimum values of hyper parameters\n",
    "\n",
    "from keras.wrappers.scikit_learn import KerasClassifier\n",
    "\n",
    "from sklearn.model_selection import cross_val_score\n",
    "\n",
    "def build_classifier(optimizer):\n",
    "    classifier = Sequential()\n",
    "    classifier.add(Dense(50, init = 'uniform', activation = 'relu', input_shape = (n_cols,) ))\n",
    "    classifier.add(Dense(6, init = 'uniform', activation = 'relu'))\n",
    "    classifier.compile(optimizer = optimizer, loss = 'categorical_crossentropy', metrics = ['accuracy'])\n",
    "    return classifier\n",
    "\n",
    "classifier = KerasClassifier(build_fn = build_classifier, batch_size = 10, nb_epoch = 40)\n",
    "accuracies = cross_val_score(estimator = classifier, X = X_train, y = y_train, cv=10, n_jobs = -1)\n",
    "\n",
    "\n",
    "\n",
    "from sklearn.model_selection import GridSearchCV\n",
    "classifier = KerasClassifier(build_fn = build_classifier)\n",
    "parameters = { 'batch_size':[25, 32],\n",
    "              'nb_epoch':[100, 500],\n",
    "              'optimizer':['adam','rmsprop']\n",
    "              }\n",
    "\n",
    "grid_search = GridSearchCV(estimator = classifier, param_grid = parameters, cv = 10, scoring = 'accuracy')\n",
    "                          \n",
    "\n",
    "grid_serach = grid_search.fit(X_train, y_train)\n",
    "\n",
    "best_params = grid_search.best_params_\n",
    "best_accuracy = grid_serach.best_score_\n"
   ]
  },
  {
   "cell_type": "code",
   "execution_count": null,
   "metadata": {},
   "outputs": [],
   "source": []
  }
 ],
 "metadata": {
  "kernelspec": {
   "display_name": "Python 3",
   "language": "python",
   "name": "python3"
  },
  "language_info": {
   "codemirror_mode": {
    "name": "ipython",
    "version": 3
   },
   "file_extension": ".py",
   "mimetype": "text/x-python",
   "name": "python",
   "nbconvert_exporter": "python",
   "pygments_lexer": "ipython3",
   "version": "3.6.5"
  }
 },
 "nbformat": 4,
 "nbformat_minor": 2
}
